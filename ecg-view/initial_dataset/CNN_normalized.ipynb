{
 "cells": [
  {
   "cell_type": "markdown",
   "metadata": {},
   "source": [
    "# ECG-ViEW "
   ]
  },
  {
   "cell_type": "code",
   "execution_count": 1,
   "metadata": {},
   "outputs": [],
   "source": [
    "import pandas as pd\n",
    "import numpy as np\n",
    "import pylab as plt\n",
    "\n",
    "#Visualization Libraries\n",
    "import seaborn as sns\n",
    "\n",
    "# Set the global default size of matplotlib figures\n",
    "plt.rc('figure', figsize=(10, 5))\n",
    "# Size of matplotlib histogram bins\n",
    "bin_size = 40"
   ]
  },
  {
   "cell_type": "markdown",
   "metadata": {},
   "source": [
    "## 1. ECG data processing"
   ]
  },
  {
   "cell_type": "code",
   "execution_count": 2,
   "metadata": {},
   "outputs": [
    {
     "data": {
      "text/html": [
       "<div>\n",
       "<style scoped>\n",
       "    .dataframe tbody tr th:only-of-type {\n",
       "        vertical-align: middle;\n",
       "    }\n",
       "\n",
       "    .dataframe tbody tr th {\n",
       "        vertical-align: top;\n",
       "    }\n",
       "\n",
       "    .dataframe thead th {\n",
       "        text-align: right;\n",
       "    }\n",
       "</style>\n",
       "<table border=\"1\" class=\"dataframe\">\n",
       "  <thead>\n",
       "    <tr style=\"text-align: right;\">\n",
       "      <th></th>\n",
       "      <th>personid</th>\n",
       "      <th>ecgdate</th>\n",
       "      <th>ecgdept</th>\n",
       "      <th>ecgsource</th>\n",
       "      <th>RR</th>\n",
       "      <th>PR</th>\n",
       "      <th>QRS</th>\n",
       "      <th>QT</th>\n",
       "      <th>QTc</th>\n",
       "      <th>P_wave_axis</th>\n",
       "      <th>QRS_axis</th>\n",
       "      <th>T_wave_axis</th>\n",
       "      <th>ACCI</th>\n",
       "    </tr>\n",
       "  </thead>\n",
       "  <tbody>\n",
       "    <tr>\n",
       "      <th>0</th>\n",
       "      <td>120971</td>\n",
       "      <td>2006-05-23 09:57:00</td>\n",
       "      <td>H</td>\n",
       "      <td>M</td>\n",
       "      <td>952.0</td>\n",
       "      <td>NaN</td>\n",
       "      <td>NaN</td>\n",
       "      <td>388</td>\n",
       "      <td>397</td>\n",
       "      <td>NaN</td>\n",
       "      <td>NaN</td>\n",
       "      <td>NaN</td>\n",
       "      <td>9</td>\n",
       "    </tr>\n",
       "    <tr>\n",
       "      <th>1</th>\n",
       "      <td>120971</td>\n",
       "      <td>2012-04-19 08:09:06</td>\n",
       "      <td>H</td>\n",
       "      <td>E</td>\n",
       "      <td>750.0</td>\n",
       "      <td>140.0</td>\n",
       "      <td>84.0</td>\n",
       "      <td>360</td>\n",
       "      <td>415</td>\n",
       "      <td>NaN</td>\n",
       "      <td>NaN</td>\n",
       "      <td>NaN</td>\n",
       "      <td>9</td>\n",
       "    </tr>\n",
       "    <tr>\n",
       "      <th>2</th>\n",
       "      <td>270</td>\n",
       "      <td>2004-07-03 09:05:13</td>\n",
       "      <td>O</td>\n",
       "      <td>M</td>\n",
       "      <td>600.0</td>\n",
       "      <td>122.0</td>\n",
       "      <td>78.0</td>\n",
       "      <td>318</td>\n",
       "      <td>410</td>\n",
       "      <td>62.0</td>\n",
       "      <td>86.0</td>\n",
       "      <td>61.0</td>\n",
       "      <td>7</td>\n",
       "    </tr>\n",
       "    <tr>\n",
       "      <th>3</th>\n",
       "      <td>306709</td>\n",
       "      <td>2013-04-06 22:10:16</td>\n",
       "      <td>E</td>\n",
       "      <td>M</td>\n",
       "      <td>577.0</td>\n",
       "      <td>150.0</td>\n",
       "      <td>92.0</td>\n",
       "      <td>362</td>\n",
       "      <td>476</td>\n",
       "      <td>17.0</td>\n",
       "      <td>46.0</td>\n",
       "      <td>70.0</td>\n",
       "      <td>12</td>\n",
       "    </tr>\n",
       "    <tr>\n",
       "      <th>4</th>\n",
       "      <td>87768</td>\n",
       "      <td>1997-12-17 11:11:26</td>\n",
       "      <td>O</td>\n",
       "      <td>M</td>\n",
       "      <td>698.0</td>\n",
       "      <td>136.0</td>\n",
       "      <td>88.0</td>\n",
       "      <td>354</td>\n",
       "      <td>423</td>\n",
       "      <td>28.0</td>\n",
       "      <td>59.0</td>\n",
       "      <td>29.0</td>\n",
       "      <td>3</td>\n",
       "    </tr>\n",
       "  </tbody>\n",
       "</table>\n",
       "</div>"
      ],
      "text/plain": [
       "   personid              ecgdate ecgdept ecgsource     RR     PR   QRS   QT  \\\n",
       "0    120971  2006-05-23 09:57:00       H         M  952.0    NaN   NaN  388   \n",
       "1    120971  2012-04-19 08:09:06       H         E  750.0  140.0  84.0  360   \n",
       "2       270  2004-07-03 09:05:13       O         M  600.0  122.0  78.0  318   \n",
       "3    306709  2013-04-06 22:10:16       E         M  577.0  150.0  92.0  362   \n",
       "4     87768  1997-12-17 11:11:26       O         M  698.0  136.0  88.0  354   \n",
       "\n",
       "   QTc  P_wave_axis  QRS_axis  T_wave_axis  ACCI  \n",
       "0  397          NaN       NaN          NaN     9  \n",
       "1  415          NaN       NaN          NaN     9  \n",
       "2  410         62.0      86.0         61.0     7  \n",
       "3  476         17.0      46.0         70.0    12  \n",
       "4  423         28.0      59.0         29.0     3  "
      ]
     },
     "execution_count": 2,
     "metadata": {},
     "output_type": "execute_result"
    }
   ],
   "source": [
    "df_one = pd.read_csv('Electrocardiogram.csv')\n",
    "df_one.head()"
   ]
  },
  {
   "cell_type": "code",
   "execution_count": 3,
   "metadata": {},
   "outputs": [
    {
     "data": {
      "text/plain": [
       "(979273, 13)"
      ]
     },
     "execution_count": 3,
     "metadata": {},
     "output_type": "execute_result"
    }
   ],
   "source": [
    "df_one.shape"
   ]
  },
  {
   "cell_type": "code",
   "execution_count": 4,
   "metadata": {},
   "outputs": [
    {
     "name": "stdout",
     "output_type": "stream",
     "text": [
      "<class 'pandas.core.frame.DataFrame'>\n",
      "RangeIndex: 979273 entries, 0 to 979272\n",
      "Data columns (total 13 columns):\n",
      " #   Column       Non-Null Count   Dtype  \n",
      "---  ------       --------------   -----  \n",
      " 0   personid     979273 non-null  int64  \n",
      " 1   ecgdate      979273 non-null  object \n",
      " 2   ecgdept      979273 non-null  object \n",
      " 3   ecgsource    979273 non-null  object \n",
      " 4   RR           979239 non-null  float64\n",
      " 5   PR           774260 non-null  float64\n",
      " 6   QRS          810373 non-null  float64\n",
      " 7   QT           979273 non-null  int64  \n",
      " 8   QTc          979273 non-null  int64  \n",
      " 9   P_wave_axis  732827 non-null  float64\n",
      " 10  QRS_axis     762274 non-null  float64\n",
      " 11  T_wave_axis  762248 non-null  float64\n",
      " 12  ACCI         979273 non-null  int64  \n",
      "dtypes: float64(6), int64(4), object(3)\n",
      "memory usage: 97.1+ MB\n"
     ]
    }
   ],
   "source": [
    "df_one.info()"
   ]
  },
  {
   "cell_type": "code",
   "execution_count": 5,
   "metadata": {},
   "outputs": [
    {
     "data": {
      "text/html": [
       "<div>\n",
       "<style scoped>\n",
       "    .dataframe tbody tr th:only-of-type {\n",
       "        vertical-align: middle;\n",
       "    }\n",
       "\n",
       "    .dataframe tbody tr th {\n",
       "        vertical-align: top;\n",
       "    }\n",
       "\n",
       "    .dataframe thead th {\n",
       "        text-align: right;\n",
       "    }\n",
       "</style>\n",
       "<table border=\"1\" class=\"dataframe\">\n",
       "  <thead>\n",
       "    <tr style=\"text-align: right;\">\n",
       "      <th></th>\n",
       "      <th>personid</th>\n",
       "      <th>RR</th>\n",
       "      <th>PR</th>\n",
       "      <th>QRS</th>\n",
       "      <th>QT</th>\n",
       "      <th>QTc</th>\n",
       "      <th>P_wave_axis</th>\n",
       "      <th>QRS_axis</th>\n",
       "      <th>T_wave_axis</th>\n",
       "      <th>ACCI</th>\n",
       "    </tr>\n",
       "  </thead>\n",
       "  <tbody>\n",
       "    <tr>\n",
       "      <th>count</th>\n",
       "      <td>979273.000000</td>\n",
       "      <td>979239.000000</td>\n",
       "      <td>774260.000000</td>\n",
       "      <td>810373.000000</td>\n",
       "      <td>979273.000000</td>\n",
       "      <td>979273.000000</td>\n",
       "      <td>732827.000000</td>\n",
       "      <td>762274.000000</td>\n",
       "      <td>762248.000000</td>\n",
       "      <td>979273.000000</td>\n",
       "    </tr>\n",
       "    <tr>\n",
       "      <th>mean</th>\n",
       "      <td>231021.688946</td>\n",
       "      <td>851.683240</td>\n",
       "      <td>157.081364</td>\n",
       "      <td>91.061474</td>\n",
       "      <td>389.997336</td>\n",
       "      <td>425.415081</td>\n",
       "      <td>48.357848</td>\n",
       "      <td>45.215670</td>\n",
       "      <td>46.198097</td>\n",
       "      <td>7.580933</td>\n",
       "    </tr>\n",
       "    <tr>\n",
       "      <th>std</th>\n",
       "      <td>133238.981417</td>\n",
       "      <td>196.989159</td>\n",
       "      <td>26.661289</td>\n",
       "      <td>15.149489</td>\n",
       "      <td>43.490019</td>\n",
       "      <td>31.493654</td>\n",
       "      <td>24.848064</td>\n",
       "      <td>38.048566</td>\n",
       "      <td>38.416339</td>\n",
       "      <td>3.062956</td>\n",
       "    </tr>\n",
       "    <tr>\n",
       "      <th>min</th>\n",
       "      <td>1.000000</td>\n",
       "      <td>204.000000</td>\n",
       "      <td>36.000000</td>\n",
       "      <td>2.000000</td>\n",
       "      <td>70.000000</td>\n",
       "      <td>53.000000</td>\n",
       "      <td>-89.000000</td>\n",
       "      <td>-89.000000</td>\n",
       "      <td>-89.000000</td>\n",
       "      <td>0.000000</td>\n",
       "    </tr>\n",
       "    <tr>\n",
       "      <th>25%</th>\n",
       "      <td>115711.000000</td>\n",
       "      <td>732.000000</td>\n",
       "      <td>140.000000</td>\n",
       "      <td>82.000000</td>\n",
       "      <td>364.000000</td>\n",
       "      <td>405.000000</td>\n",
       "      <td>36.000000</td>\n",
       "      <td>22.000000</td>\n",
       "      <td>28.000000</td>\n",
       "      <td>6.000000</td>\n",
       "    </tr>\n",
       "    <tr>\n",
       "      <th>50%</th>\n",
       "      <td>231037.000000</td>\n",
       "      <td>857.000000</td>\n",
       "      <td>156.000000</td>\n",
       "      <td>88.000000</td>\n",
       "      <td>390.000000</td>\n",
       "      <td>420.000000</td>\n",
       "      <td>52.000000</td>\n",
       "      <td>51.000000</td>\n",
       "      <td>44.000000</td>\n",
       "      <td>8.000000</td>\n",
       "    </tr>\n",
       "    <tr>\n",
       "      <th>75%</th>\n",
       "      <td>346411.000000</td>\n",
       "      <td>968.000000</td>\n",
       "      <td>172.000000</td>\n",
       "      <td>98.000000</td>\n",
       "      <td>416.000000</td>\n",
       "      <td>440.000000</td>\n",
       "      <td>65.000000</td>\n",
       "      <td>71.000000</td>\n",
       "      <td>59.000000</td>\n",
       "      <td>10.000000</td>\n",
       "    </tr>\n",
       "    <tr>\n",
       "      <th>max</th>\n",
       "      <td>461795.000000</td>\n",
       "      <td>30000.000000</td>\n",
       "      <td>1738.000000</td>\n",
       "      <td>380.000000</td>\n",
       "      <td>852.000000</td>\n",
       "      <td>878.000000</td>\n",
       "      <td>270.000000</td>\n",
       "      <td>270.000000</td>\n",
       "      <td>270.000000</td>\n",
       "      <td>23.000000</td>\n",
       "    </tr>\n",
       "  </tbody>\n",
       "</table>\n",
       "</div>"
      ],
      "text/plain": [
       "            personid             RR             PR            QRS  \\\n",
       "count  979273.000000  979239.000000  774260.000000  810373.000000   \n",
       "mean   231021.688946     851.683240     157.081364      91.061474   \n",
       "std    133238.981417     196.989159      26.661289      15.149489   \n",
       "min         1.000000     204.000000      36.000000       2.000000   \n",
       "25%    115711.000000     732.000000     140.000000      82.000000   \n",
       "50%    231037.000000     857.000000     156.000000      88.000000   \n",
       "75%    346411.000000     968.000000     172.000000      98.000000   \n",
       "max    461795.000000   30000.000000    1738.000000     380.000000   \n",
       "\n",
       "                  QT            QTc    P_wave_axis       QRS_axis  \\\n",
       "count  979273.000000  979273.000000  732827.000000  762274.000000   \n",
       "mean      389.997336     425.415081      48.357848      45.215670   \n",
       "std        43.490019      31.493654      24.848064      38.048566   \n",
       "min        70.000000      53.000000     -89.000000     -89.000000   \n",
       "25%       364.000000     405.000000      36.000000      22.000000   \n",
       "50%       390.000000     420.000000      52.000000      51.000000   \n",
       "75%       416.000000     440.000000      65.000000      71.000000   \n",
       "max       852.000000     878.000000     270.000000     270.000000   \n",
       "\n",
       "         T_wave_axis           ACCI  \n",
       "count  762248.000000  979273.000000  \n",
       "mean       46.198097       7.580933  \n",
       "std        38.416339       3.062956  \n",
       "min       -89.000000       0.000000  \n",
       "25%        28.000000       6.000000  \n",
       "50%        44.000000       8.000000  \n",
       "75%        59.000000      10.000000  \n",
       "max       270.000000      23.000000  "
      ]
     },
     "execution_count": 5,
     "metadata": {},
     "output_type": "execute_result"
    }
   ],
   "source": [
    "df_one.describe()"
   ]
  },
  {
   "cell_type": "code",
   "execution_count": 6,
   "metadata": {},
   "outputs": [
    {
     "data": {
      "text/plain": [
       "(461034, 13)"
      ]
     },
     "execution_count": 6,
     "metadata": {},
     "output_type": "execute_result"
    }
   ],
   "source": [
    "df_one = df_one.sort_values('ecgdate').drop_duplicates('personid',keep='last')\n",
    "df_one.shape"
   ]
  },
  {
   "cell_type": "code",
   "execution_count": 7,
   "metadata": {},
   "outputs": [
    {
     "data": {
      "text/plain": [
       "personid         int64\n",
       "ecgdate         object\n",
       "ecgdept         object\n",
       "ecgsource       object\n",
       "RR             float64\n",
       "PR             float64\n",
       "QRS            float64\n",
       "QT               int64\n",
       "QTc              int64\n",
       "P_wave_axis    float64\n",
       "QRS_axis       float64\n",
       "T_wave_axis    float64\n",
       "ACCI             int64\n",
       "dtype: object"
      ]
     },
     "execution_count": 7,
     "metadata": {},
     "output_type": "execute_result"
    }
   ],
   "source": [
    "df_one.dtypes"
   ]
  },
  {
   "cell_type": "code",
   "execution_count": 8,
   "metadata": {},
   "outputs": [
    {
     "data": {
      "text/plain": [
       "Text(0.5, 1.0, 'T wave axis')"
      ]
     },
     "execution_count": 8,
     "metadata": {},
     "output_type": "execute_result"
    },
    {
     "data": {
      "image/png": "[encoded data removed]",
      "text/plain": [
       "<Figure size 1080x1080 with 11 Axes>"
      ]
     },
     "metadata": {
      "needs_background": "light"
     },
     "output_type": "display_data"
    }
   ],
   "source": [
    "fig = plt.figure(figsize = (15,15))\n",
    "fig_dim = (4,3)\n",
    "\n",
    "plt.subplot2grid(fig_dim, (0,0))\n",
    "df_one['ecgdept'].value_counts().plot(kind='bar', title='ECG Department')\n",
    "\n",
    "plt.subplot2grid(fig_dim, (0,1))\n",
    "df_one['ecgsource'].value_counts().plot(kind='bar', title='ECG Source')\n",
    "\n",
    "plt.subplot2grid(fig_dim, (0,2))\n",
    "df_one['ACCI'].value_counts().plot(kind='bar', title='ACCI')\n",
    "\n",
    "plt.subplot2grid(fig_dim, (1,0))\n",
    "df_one['RR'].hist(bins=50)\n",
    "plt.title('RR')\n",
    "\n",
    "plt.subplot2grid(fig_dim, (1,1))\n",
    "df_one['PR'].hist(bins=50)\n",
    "plt.title('PR')\n",
    "\n",
    "plt.subplot2grid(fig_dim, (1,2))\n",
    "df_one['QRS'].hist(bins=50)\n",
    "plt.title('QRS')\n",
    "\n",
    "plt.subplot2grid(fig_dim, (2,0))\n",
    "df_one['QT'].hist(bins=50)\n",
    "plt.title('QT')\n",
    "\n",
    "plt.subplot2grid(fig_dim, (2,1))\n",
    "df_one['QTc'].hist(bins=50)\n",
    "plt.title('QTc')\n",
    "\n",
    "plt.subplot2grid(fig_dim, (2,2))\n",
    "df_one['P_wave_axis'].hist(bins=50)\n",
    "plt.title('P wave axis')\n",
    "\n",
    "plt.subplot2grid(fig_dim, (3,0))\n",
    "df_one['QRS_axis'].hist(bins=50)\n",
    "plt.title('QRS axis')\n",
    "\n",
    "plt.subplot2grid(fig_dim, (3,1))\n",
    "df_one['T_wave_axis'].hist(bins=50)\n",
    "plt.title('T wave axis')"
   ]
  },
  {
   "cell_type": "code",
   "execution_count": 9,
   "metadata": {},
   "outputs": [
    {
     "data": {
      "text/plain": [
       "personid            0\n",
       "ecgdate             0\n",
       "ecgdept             0\n",
       "ecgsource           0\n",
       "RR                 23\n",
       "PR              63805\n",
       "QRS             54727\n",
       "QT                  0\n",
       "QTc                 0\n",
       "P_wave_axis    100027\n",
       "QRS_axis        92518\n",
       "T_wave_axis     92521\n",
       "ACCI                0\n",
       "dtype: int64"
      ]
     },
     "execution_count": 9,
     "metadata": {},
     "output_type": "execute_result"
    }
   ],
   "source": [
    "df_one.isnull().sum()"
   ]
  },
  {
   "cell_type": "code",
   "execution_count": 10,
   "metadata": {},
   "outputs": [],
   "source": [
    "# Drop instances that have missing values \n",
    "df_two = df_one.dropna(subset=['RR', 'PR', 'QRS', 'P_wave_axis','QRS_axis', 'T_wave_axis']);"
   ]
  },
  {
   "cell_type": "code",
   "execution_count": 11,
   "metadata": {},
   "outputs": [
    {
     "data": {
      "text/plain": [
       "personid       0\n",
       "ecgdate        0\n",
       "ecgdept        0\n",
       "ecgsource      0\n",
       "RR             0\n",
       "PR             0\n",
       "QRS            0\n",
       "QT             0\n",
       "QTc            0\n",
       "P_wave_axis    0\n",
       "QRS_axis       0\n",
       "T_wave_axis    0\n",
       "ACCI           0\n",
       "dtype: int64"
      ]
     },
     "execution_count": 11,
     "metadata": {},
     "output_type": "execute_result"
    }
   ],
   "source": [
    "df_two.isnull().sum()"
   ]
  },
  {
   "cell_type": "code",
   "execution_count": 12,
   "metadata": {},
   "outputs": [
    {
     "data": {
      "text/plain": [
       "(359497, 13)"
      ]
     },
     "execution_count": 12,
     "metadata": {},
     "output_type": "execute_result"
    }
   ],
   "source": [
    "df_two.shape"
   ]
  },
  {
   "cell_type": "code",
   "execution_count": 13,
   "metadata": {},
   "outputs": [],
   "source": [
    "# Drop unrelevant information \n",
    "df_three = df_two.drop(columns = ['ecgdate', 'ecgsource', 'ecgdept'])"
   ]
  },
  {
   "cell_type": "code",
   "execution_count": 14,
   "metadata": {},
   "outputs": [
    {
     "data": {
      "text/html": [
       "<div>\n",
       "<style scoped>\n",
       "    .dataframe tbody tr th:only-of-type {\n",
       "        vertical-align: middle;\n",
       "    }\n",
       "\n",
       "    .dataframe tbody tr th {\n",
       "        vertical-align: top;\n",
       "    }\n",
       "\n",
       "    .dataframe thead th {\n",
       "        text-align: right;\n",
       "    }\n",
       "</style>\n",
       "<table border=\"1\" class=\"dataframe\">\n",
       "  <thead>\n",
       "    <tr style=\"text-align: right;\">\n",
       "      <th></th>\n",
       "      <th>personid</th>\n",
       "      <th>RR</th>\n",
       "      <th>PR</th>\n",
       "      <th>QRS</th>\n",
       "      <th>QT</th>\n",
       "      <th>QTc</th>\n",
       "      <th>P_wave_axis</th>\n",
       "      <th>QRS_axis</th>\n",
       "      <th>T_wave_axis</th>\n",
       "      <th>ACCI</th>\n",
       "    </tr>\n",
       "  </thead>\n",
       "  <tbody>\n",
       "    <tr>\n",
       "      <th>970189</th>\n",
       "      <td>62646</td>\n",
       "      <td>594.0</td>\n",
       "      <td>134.0</td>\n",
       "      <td>88.0</td>\n",
       "      <td>326</td>\n",
       "      <td>422</td>\n",
       "      <td>42.0</td>\n",
       "      <td>-57.0</td>\n",
       "      <td>52.0</td>\n",
       "      <td>2</td>\n",
       "    </tr>\n",
       "    <tr>\n",
       "      <th>936960</th>\n",
       "      <td>225177</td>\n",
       "      <td>625.0</td>\n",
       "      <td>138.0</td>\n",
       "      <td>84.0</td>\n",
       "      <td>362</td>\n",
       "      <td>457</td>\n",
       "      <td>70.0</td>\n",
       "      <td>26.0</td>\n",
       "      <td>63.0</td>\n",
       "      <td>1</td>\n",
       "    </tr>\n",
       "    <tr>\n",
       "      <th>757784</th>\n",
       "      <td>100620</td>\n",
       "      <td>674.0</td>\n",
       "      <td>152.0</td>\n",
       "      <td>96.0</td>\n",
       "      <td>412</td>\n",
       "      <td>501</td>\n",
       "      <td>57.0</td>\n",
       "      <td>64.0</td>\n",
       "      <td>41.0</td>\n",
       "      <td>0</td>\n",
       "    </tr>\n",
       "    <tr>\n",
       "      <th>785324</th>\n",
       "      <td>391047</td>\n",
       "      <td>1053.0</td>\n",
       "      <td>184.0</td>\n",
       "      <td>88.0</td>\n",
       "      <td>388</td>\n",
       "      <td>377</td>\n",
       "      <td>67.0</td>\n",
       "      <td>73.0</td>\n",
       "      <td>48.0</td>\n",
       "      <td>0</td>\n",
       "    </tr>\n",
       "    <tr>\n",
       "      <th>877940</th>\n",
       "      <td>458019</td>\n",
       "      <td>909.0</td>\n",
       "      <td>132.0</td>\n",
       "      <td>92.0</td>\n",
       "      <td>400</td>\n",
       "      <td>419</td>\n",
       "      <td>29.0</td>\n",
       "      <td>63.0</td>\n",
       "      <td>53.0</td>\n",
       "      <td>0</td>\n",
       "    </tr>\n",
       "  </tbody>\n",
       "</table>\n",
       "</div>"
      ],
      "text/plain": [
       "        personid      RR     PR   QRS   QT  QTc  P_wave_axis  QRS_axis  \\\n",
       "970189     62646   594.0  134.0  88.0  326  422         42.0     -57.0   \n",
       "936960    225177   625.0  138.0  84.0  362  457         70.0      26.0   \n",
       "757784    100620   674.0  152.0  96.0  412  501         57.0      64.0   \n",
       "785324    391047  1053.0  184.0  88.0  388  377         67.0      73.0   \n",
       "877940    458019   909.0  132.0  92.0  400  419         29.0      63.0   \n",
       "\n",
       "        T_wave_axis  ACCI  \n",
       "970189         52.0     2  \n",
       "936960         63.0     1  \n",
       "757784         41.0     0  \n",
       "785324         48.0     0  \n",
       "877940         53.0     0  "
      ]
     },
     "execution_count": 14,
     "metadata": {},
     "output_type": "execute_result"
    }
   ],
   "source": [
    "df_three.head()"
   ]
  },
  {
   "cell_type": "markdown",
   "metadata": {},
   "source": [
    "## 2. Diagnosis code & personal info (sex)"
   ]
  },
  {
   "cell_type": "code",
   "execution_count": 15,
   "metadata": {},
   "outputs": [
    {
     "data": {
      "text/html": [
       "<div>\n",
       "<style scoped>\n",
       "    .dataframe tbody tr th:only-of-type {\n",
       "        vertical-align: middle;\n",
       "    }\n",
       "\n",
       "    .dataframe tbody tr th {\n",
       "        vertical-align: top;\n",
       "    }\n",
       "\n",
       "    .dataframe thead th {\n",
       "        text-align: right;\n",
       "    }\n",
       "</style>\n",
       "<table border=\"1\" class=\"dataframe\">\n",
       "  <thead>\n",
       "    <tr style=\"text-align: right;\">\n",
       "      <th></th>\n",
       "      <th>personid</th>\n",
       "      <th>diagdate</th>\n",
       "      <th>diagcode</th>\n",
       "      <th>diaglocalcode</th>\n",
       "      <th>diagdept</th>\n",
       "    </tr>\n",
       "  </thead>\n",
       "  <tbody>\n",
       "    <tr>\n",
       "      <th>0</th>\n",
       "      <td>141778</td>\n",
       "      <td>1997-06-04 00:00:00</td>\n",
       "      <td>L73.8</td>\n",
       "      <td>DC12467</td>\n",
       "      <td>O</td>\n",
       "    </tr>\n",
       "    <tr>\n",
       "      <th>1</th>\n",
       "      <td>141778</td>\n",
       "      <td>1997-06-07 00:00:00</td>\n",
       "      <td>L73.8</td>\n",
       "      <td>DC12467</td>\n",
       "      <td>O</td>\n",
       "    </tr>\n",
       "    <tr>\n",
       "      <th>2</th>\n",
       "      <td>141778</td>\n",
       "      <td>1997-06-16 00:00:00</td>\n",
       "      <td>L73.8</td>\n",
       "      <td>DC12467</td>\n",
       "      <td>O</td>\n",
       "    </tr>\n",
       "    <tr>\n",
       "      <th>3</th>\n",
       "      <td>141778</td>\n",
       "      <td>1997-06-23 00:00:00</td>\n",
       "      <td>L73.8</td>\n",
       "      <td>DC12467</td>\n",
       "      <td>O</td>\n",
       "    </tr>\n",
       "    <tr>\n",
       "      <th>4</th>\n",
       "      <td>141778</td>\n",
       "      <td>1997-06-30 00:00:00</td>\n",
       "      <td>L73.8</td>\n",
       "      <td>DC12467</td>\n",
       "      <td>O</td>\n",
       "    </tr>\n",
       "  </tbody>\n",
       "</table>\n",
       "</div>"
      ],
      "text/plain": [
       "   personid             diagdate diagcode diaglocalcode diagdept\n",
       "0    141778  1997-06-04 00:00:00    L73.8       DC12467        O\n",
       "1    141778  1997-06-07 00:00:00    L73.8       DC12467        O\n",
       "2    141778  1997-06-16 00:00:00    L73.8       DC12467        O\n",
       "3    141778  1997-06-23 00:00:00    L73.8       DC12467        O\n",
       "4    141778  1997-06-30 00:00:00    L73.8       DC12467        O"
      ]
     },
     "execution_count": 15,
     "metadata": {},
     "output_type": "execute_result"
    }
   ],
   "source": [
    "df_diag_one = pd.read_csv('Diagnosis.csv', encoding='latin-1')\n",
    "df_diag_one.head()"
   ]
  },
  {
   "cell_type": "code",
   "execution_count": 16,
   "metadata": {},
   "outputs": [
    {
     "data": {
      "text/plain": [
       "(7743772, 5)"
      ]
     },
     "execution_count": 16,
     "metadata": {},
     "output_type": "execute_result"
    }
   ],
   "source": [
    "df_diag_one.shape"
   ]
  },
  {
   "cell_type": "code",
   "execution_count": 17,
   "metadata": {},
   "outputs": [
    {
     "data": {
      "text/html": [
       "<div>\n",
       "<style scoped>\n",
       "    .dataframe tbody tr th:only-of-type {\n",
       "        vertical-align: middle;\n",
       "    }\n",
       "\n",
       "    .dataframe tbody tr th {\n",
       "        vertical-align: top;\n",
       "    }\n",
       "\n",
       "    .dataframe thead th {\n",
       "        text-align: right;\n",
       "    }\n",
       "</style>\n",
       "<table border=\"1\" class=\"dataframe\">\n",
       "  <thead>\n",
       "    <tr style=\"text-align: right;\">\n",
       "      <th></th>\n",
       "      <th>personid</th>\n",
       "      <th>diagdate</th>\n",
       "      <th>diagcode</th>\n",
       "      <th>diaglocalcode</th>\n",
       "      <th>diagdept</th>\n",
       "    </tr>\n",
       "  </thead>\n",
       "  <tbody>\n",
       "    <tr>\n",
       "      <th>1399097</th>\n",
       "      <td>1</td>\n",
       "      <td>1999-06-23 00:00:00</td>\n",
       "      <td>J30.4</td>\n",
       "      <td>DC3049</td>\n",
       "      <td>O</td>\n",
       "    </tr>\n",
       "    <tr>\n",
       "      <th>5955683</th>\n",
       "      <td>2</td>\n",
       "      <td>2010-09-09 00:00:00</td>\n",
       "      <td>G50.0</td>\n",
       "      <td>DC2017</td>\n",
       "      <td>O</td>\n",
       "    </tr>\n",
       "    <tr>\n",
       "      <th>1443173</th>\n",
       "      <td>3</td>\n",
       "      <td>1998-09-08 00:00:00</td>\n",
       "      <td>I20.9</td>\n",
       "      <td>DC5551</td>\n",
       "      <td>O</td>\n",
       "    </tr>\n",
       "    <tr>\n",
       "      <th>2970763</th>\n",
       "      <td>4</td>\n",
       "      <td>2005-10-21 00:00:00</td>\n",
       "      <td>M19.99A</td>\n",
       "      <td>DC5189</td>\n",
       "      <td>O</td>\n",
       "    </tr>\n",
       "    <tr>\n",
       "      <th>7033176</th>\n",
       "      <td>5</td>\n",
       "      <td>2012-02-08 00:00:00</td>\n",
       "      <td>R42</td>\n",
       "      <td>DC3614</td>\n",
       "      <td>O</td>\n",
       "    </tr>\n",
       "    <tr>\n",
       "      <th>...</th>\n",
       "      <td>...</td>\n",
       "      <td>...</td>\n",
       "      <td>...</td>\n",
       "      <td>...</td>\n",
       "      <td>...</td>\n",
       "    </tr>\n",
       "    <tr>\n",
       "      <th>4780076</th>\n",
       "      <td>461791</td>\n",
       "      <td>2007-09-27 15:20:00</td>\n",
       "      <td>D25.9</td>\n",
       "      <td>DC724</td>\n",
       "      <td>I</td>\n",
       "    </tr>\n",
       "    <tr>\n",
       "      <th>4198479</th>\n",
       "      <td>461792</td>\n",
       "      <td>2007-05-14 00:00:00</td>\n",
       "      <td>C16.9</td>\n",
       "      <td>DC3877</td>\n",
       "      <td>O</td>\n",
       "    </tr>\n",
       "    <tr>\n",
       "      <th>3048364</th>\n",
       "      <td>461793</td>\n",
       "      <td>2005-06-01 00:00:00</td>\n",
       "      <td>C73</td>\n",
       "      <td>DC4775</td>\n",
       "      <td>O</td>\n",
       "    </tr>\n",
       "    <tr>\n",
       "      <th>563760</th>\n",
       "      <td>461794</td>\n",
       "      <td>2002-07-04 00:00:00</td>\n",
       "      <td>M99623</td>\n",
       "      <td>DC2152</td>\n",
       "      <td>O</td>\n",
       "    </tr>\n",
       "    <tr>\n",
       "      <th>7199239</th>\n",
       "      <td>461795</td>\n",
       "      <td>2012-06-29 00:00:00</td>\n",
       "      <td>E11.10</td>\n",
       "      <td>DC12230</td>\n",
       "      <td>O</td>\n",
       "    </tr>\n",
       "  </tbody>\n",
       "</table>\n",
       "<p>424363 rows × 5 columns</p>\n",
       "</div>"
      ],
      "text/plain": [
       "         personid             diagdate diagcode diaglocalcode diagdept\n",
       "1399097         1  1999-06-23 00:00:00    J30.4        DC3049        O\n",
       "5955683         2  2010-09-09 00:00:00    G50.0        DC2017        O\n",
       "1443173         3  1998-09-08 00:00:00    I20.9        DC5551        O\n",
       "2970763         4  2005-10-21 00:00:00  M19.99A        DC5189        O\n",
       "7033176         5  2012-02-08 00:00:00      R42        DC3614        O\n",
       "...           ...                  ...      ...           ...      ...\n",
       "4780076    461791  2007-09-27 15:20:00    D25.9         DC724        I\n",
       "4198479    461792  2007-05-14 00:00:00    C16.9        DC3877        O\n",
       "3048364    461793  2005-06-01 00:00:00      C73        DC4775        O\n",
       "563760     461794  2002-07-04 00:00:00   M99623        DC2152        O\n",
       "7199239    461795  2012-06-29 00:00:00   E11.10       DC12230        O\n",
       "\n",
       "[424363 rows x 5 columns]"
      ]
     },
     "execution_count": 17,
     "metadata": {},
     "output_type": "execute_result"
    }
   ],
   "source": [
    "# Drop duplicate entries (repeated entry of the same ID)\n",
    "df_diag_two = df_diag_one.sort_values('diagdate').drop_duplicates('personid',keep='last')\n",
    "df_diag_two.sort_values(by=['personid'])"
   ]
  },
  {
   "cell_type": "code",
   "execution_count": 18,
   "metadata": {},
   "outputs": [
    {
     "data": {
      "text/plain": [
       "(424363, 5)"
      ]
     },
     "execution_count": 18,
     "metadata": {},
     "output_type": "execute_result"
    }
   ],
   "source": [
    "df_diag_two.shape"
   ]
  },
  {
   "cell_type": "code",
   "execution_count": 19,
   "metadata": {
    "scrolled": true
   },
   "outputs": [
    {
     "data": {
      "text/html": [
       "<div>\n",
       "<style scoped>\n",
       "    .dataframe tbody tr th:only-of-type {\n",
       "        vertical-align: middle;\n",
       "    }\n",
       "\n",
       "    .dataframe tbody tr th {\n",
       "        vertical-align: top;\n",
       "    }\n",
       "\n",
       "    .dataframe thead th {\n",
       "        text-align: right;\n",
       "    }\n",
       "</style>\n",
       "<table border=\"1\" class=\"dataframe\">\n",
       "  <thead>\n",
       "    <tr style=\"text-align: right;\">\n",
       "      <th></th>\n",
       "      <th>personid</th>\n",
       "      <th>sex</th>\n",
       "      <th>Birthyeargroup</th>\n",
       "      <th>ethnicity</th>\n",
       "    </tr>\n",
       "  </thead>\n",
       "  <tbody>\n",
       "    <tr>\n",
       "      <th>0</th>\n",
       "      <td>369485</td>\n",
       "      <td>1</td>\n",
       "      <td>16</td>\n",
       "      <td>1</td>\n",
       "    </tr>\n",
       "    <tr>\n",
       "      <th>1</th>\n",
       "      <td>138392</td>\n",
       "      <td>0</td>\n",
       "      <td>14</td>\n",
       "      <td>1</td>\n",
       "    </tr>\n",
       "    <tr>\n",
       "      <th>2</th>\n",
       "      <td>188469</td>\n",
       "      <td>1</td>\n",
       "      <td>20</td>\n",
       "      <td>1</td>\n",
       "    </tr>\n",
       "    <tr>\n",
       "      <th>3</th>\n",
       "      <td>169164</td>\n",
       "      <td>0</td>\n",
       "      <td>12</td>\n",
       "      <td>1</td>\n",
       "    </tr>\n",
       "    <tr>\n",
       "      <th>4</th>\n",
       "      <td>434516</td>\n",
       "      <td>1</td>\n",
       "      <td>14</td>\n",
       "      <td>1</td>\n",
       "    </tr>\n",
       "  </tbody>\n",
       "</table>\n",
       "</div>"
      ],
      "text/plain": [
       "   personid  sex  Birthyeargroup  ethnicity\n",
       "0    369485    1              16          1\n",
       "1    138392    0              14          1\n",
       "2    188469    1              20          1\n",
       "3    169164    0              12          1\n",
       "4    434516    1              14          1"
      ]
     },
     "execution_count": 19,
     "metadata": {},
     "output_type": "execute_result"
    }
   ],
   "source": [
    "df_person = pd.read_csv('Person.csv')\n",
    "df_person.head()"
   ]
  },
  {
   "cell_type": "code",
   "execution_count": 20,
   "metadata": {},
   "outputs": [
    {
     "data": {
      "text/plain": [
       "(461034, 4)"
      ]
     },
     "execution_count": 20,
     "metadata": {},
     "output_type": "execute_result"
    }
   ],
   "source": [
    "df_person.shape"
   ]
  },
  {
   "cell_type": "code",
   "execution_count": 21,
   "metadata": {},
   "outputs": [],
   "source": [
    "# Merge the diagnosis dataset with the personal info dataset with the common column (personid)\n",
    "df_diag_person = pd.merge(df_diag_two, df_person, on='personid')"
   ]
  },
  {
   "cell_type": "code",
   "execution_count": 22,
   "metadata": {},
   "outputs": [
    {
     "data": {
      "text/html": [
       "<div>\n",
       "<style scoped>\n",
       "    .dataframe tbody tr th:only-of-type {\n",
       "        vertical-align: middle;\n",
       "    }\n",
       "\n",
       "    .dataframe tbody tr th {\n",
       "        vertical-align: top;\n",
       "    }\n",
       "\n",
       "    .dataframe thead th {\n",
       "        text-align: right;\n",
       "    }\n",
       "</style>\n",
       "<table border=\"1\" class=\"dataframe\">\n",
       "  <thead>\n",
       "    <tr style=\"text-align: right;\">\n",
       "      <th></th>\n",
       "      <th>personid</th>\n",
       "      <th>diagdate</th>\n",
       "      <th>diagcode</th>\n",
       "      <th>diaglocalcode</th>\n",
       "      <th>diagdept</th>\n",
       "      <th>sex</th>\n",
       "      <th>Birthyeargroup</th>\n",
       "      <th>ethnicity</th>\n",
       "    </tr>\n",
       "  </thead>\n",
       "  <tbody>\n",
       "    <tr>\n",
       "      <th>0</th>\n",
       "      <td>68536</td>\n",
       "      <td>1994-08-30 02:37:00</td>\n",
       "      <td>K01.1</td>\n",
       "      <td>DC9189</td>\n",
       "      <td>I</td>\n",
       "      <td>1</td>\n",
       "      <td>16</td>\n",
       "      <td>1</td>\n",
       "    </tr>\n",
       "    <tr>\n",
       "      <th>1</th>\n",
       "      <td>216182</td>\n",
       "      <td>1995-01-03 23:45:00</td>\n",
       "      <td>G91.9</td>\n",
       "      <td>DC78</td>\n",
       "      <td>I</td>\n",
       "      <td>1</td>\n",
       "      <td>4</td>\n",
       "      <td>1</td>\n",
       "    </tr>\n",
       "    <tr>\n",
       "      <th>2</th>\n",
       "      <td>458392</td>\n",
       "      <td>1995-01-04 16:27:00</td>\n",
       "      <td>S72.20</td>\n",
       "      <td>DC13004</td>\n",
       "      <td>I</td>\n",
       "      <td>1</td>\n",
       "      <td>10</td>\n",
       "      <td>1</td>\n",
       "    </tr>\n",
       "    <tr>\n",
       "      <th>3</th>\n",
       "      <td>396139</td>\n",
       "      <td>1995-01-06 15:19:00</td>\n",
       "      <td>M19.99</td>\n",
       "      <td>DC7130</td>\n",
       "      <td>I</td>\n",
       "      <td>0</td>\n",
       "      <td>7</td>\n",
       "      <td>1</td>\n",
       "    </tr>\n",
       "    <tr>\n",
       "      <th>4</th>\n",
       "      <td>251126</td>\n",
       "      <td>1995-01-12 17:33:00</td>\n",
       "      <td>M95303</td>\n",
       "      <td>DC13765</td>\n",
       "      <td>I</td>\n",
       "      <td>0</td>\n",
       "      <td>11</td>\n",
       "      <td>1</td>\n",
       "    </tr>\n",
       "  </tbody>\n",
       "</table>\n",
       "</div>"
      ],
      "text/plain": [
       "   personid             diagdate diagcode diaglocalcode diagdept  sex  \\\n",
       "0     68536  1994-08-30 02:37:00    K01.1        DC9189        I    1   \n",
       "1    216182  1995-01-03 23:45:00    G91.9          DC78        I    1   \n",
       "2    458392  1995-01-04 16:27:00   S72.20       DC13004        I    1   \n",
       "3    396139  1995-01-06 15:19:00   M19.99        DC7130        I    0   \n",
       "4    251126  1995-01-12 17:33:00   M95303       DC13765        I    0   \n",
       "\n",
       "   Birthyeargroup  ethnicity  \n",
       "0              16          1  \n",
       "1               4          1  \n",
       "2              10          1  \n",
       "3               7          1  \n",
       "4              11          1  "
      ]
     },
     "execution_count": 22,
     "metadata": {},
     "output_type": "execute_result"
    }
   ],
   "source": [
    "df_diag_person.head()"
   ]
  },
  {
   "cell_type": "code",
   "execution_count": 23,
   "metadata": {},
   "outputs": [
    {
     "data": {
      "text/plain": [
       "(424363, 8)"
      ]
     },
     "execution_count": 23,
     "metadata": {},
     "output_type": "execute_result"
    }
   ],
   "source": [
    "df_diag_person.shape"
   ]
  },
  {
   "cell_type": "code",
   "execution_count": 24,
   "metadata": {},
   "outputs": [
    {
     "data": {
      "text/plain": [
       "personid          0\n",
       "diagdate          0\n",
       "diagcode          0\n",
       "diaglocalcode     0\n",
       "diagdept          0\n",
       "sex               0\n",
       "Birthyeargroup    0\n",
       "ethnicity         0\n",
       "dtype: int64"
      ]
     },
     "execution_count": 24,
     "metadata": {},
     "output_type": "execute_result"
    }
   ],
   "source": [
    "df_diag_person.isnull().sum()"
   ]
  },
  {
   "cell_type": "code",
   "execution_count": 25,
   "metadata": {},
   "outputs": [
    {
     "data": {
      "text/html": [
       "<div>\n",
       "<style scoped>\n",
       "    .dataframe tbody tr th:only-of-type {\n",
       "        vertical-align: middle;\n",
       "    }\n",
       "\n",
       "    .dataframe tbody tr th {\n",
       "        vertical-align: top;\n",
       "    }\n",
       "\n",
       "    .dataframe thead th {\n",
       "        text-align: right;\n",
       "    }\n",
       "</style>\n",
       "<table border=\"1\" class=\"dataframe\">\n",
       "  <thead>\n",
       "    <tr style=\"text-align: right;\">\n",
       "      <th></th>\n",
       "      <th>personid</th>\n",
       "      <th>diagdate</th>\n",
       "      <th>diagcode</th>\n",
       "      <th>diaglocalcode</th>\n",
       "      <th>diagdept</th>\n",
       "      <th>sex</th>\n",
       "      <th>Birthyeargroup</th>\n",
       "      <th>ethnicity</th>\n",
       "      <th>MI</th>\n",
       "    </tr>\n",
       "  </thead>\n",
       "  <tbody>\n",
       "    <tr>\n",
       "      <th>0</th>\n",
       "      <td>68536</td>\n",
       "      <td>1994-08-30 02:37:00</td>\n",
       "      <td>K01.1</td>\n",
       "      <td>DC9189</td>\n",
       "      <td>I</td>\n",
       "      <td>1</td>\n",
       "      <td>16</td>\n",
       "      <td>1</td>\n",
       "      <td>0</td>\n",
       "    </tr>\n",
       "    <tr>\n",
       "      <th>1</th>\n",
       "      <td>216182</td>\n",
       "      <td>1995-01-03 23:45:00</td>\n",
       "      <td>G91.9</td>\n",
       "      <td>DC78</td>\n",
       "      <td>I</td>\n",
       "      <td>1</td>\n",
       "      <td>4</td>\n",
       "      <td>1</td>\n",
       "      <td>0</td>\n",
       "    </tr>\n",
       "    <tr>\n",
       "      <th>2</th>\n",
       "      <td>458392</td>\n",
       "      <td>1995-01-04 16:27:00</td>\n",
       "      <td>S72.20</td>\n",
       "      <td>DC13004</td>\n",
       "      <td>I</td>\n",
       "      <td>1</td>\n",
       "      <td>10</td>\n",
       "      <td>1</td>\n",
       "      <td>0</td>\n",
       "    </tr>\n",
       "    <tr>\n",
       "      <th>3</th>\n",
       "      <td>396139</td>\n",
       "      <td>1995-01-06 15:19:00</td>\n",
       "      <td>M19.99</td>\n",
       "      <td>DC7130</td>\n",
       "      <td>I</td>\n",
       "      <td>0</td>\n",
       "      <td>7</td>\n",
       "      <td>1</td>\n",
       "      <td>0</td>\n",
       "    </tr>\n",
       "    <tr>\n",
       "      <th>4</th>\n",
       "      <td>251126</td>\n",
       "      <td>1995-01-12 17:33:00</td>\n",
       "      <td>M95303</td>\n",
       "      <td>DC13765</td>\n",
       "      <td>I</td>\n",
       "      <td>0</td>\n",
       "      <td>11</td>\n",
       "      <td>1</td>\n",
       "      <td>0</td>\n",
       "    </tr>\n",
       "  </tbody>\n",
       "</table>\n",
       "</div>"
      ],
      "text/plain": [
       "   personid             diagdate diagcode diaglocalcode diagdept  sex  \\\n",
       "0     68536  1994-08-30 02:37:00    K01.1        DC9189        I    1   \n",
       "1    216182  1995-01-03 23:45:00    G91.9          DC78        I    1   \n",
       "2    458392  1995-01-04 16:27:00   S72.20       DC13004        I    1   \n",
       "3    396139  1995-01-06 15:19:00   M19.99        DC7130        I    0   \n",
       "4    251126  1995-01-12 17:33:00   M95303       DC13765        I    0   \n",
       "\n",
       "   Birthyeargroup  ethnicity MI  \n",
       "0              16          1  0  \n",
       "1               4          1  0  \n",
       "2              10          1  0  \n",
       "3               7          1  0  \n",
       "4              11          1  0  "
      ]
     },
     "execution_count": 25,
     "metadata": {},
     "output_type": "execute_result"
    }
   ],
   "source": [
    "####################### Create a new feature base on the diagnosis code: MI (1 = MI, 0 = no)\n",
    "condition = (df_diag_person['diaglocalcode']=='DC5624')|(df_diag_person['diaglocalcode']=='DC7547')|(df_diag_person['diaglocalcode']=='DC8877')|(df_diag_person['diaglocalcode']=='DC910')|(df_diag_person['diaglocalcode']=='DC967')|(df_diag_person['diaglocalcode']=='DC13972')|(df_diag_person['diaglocalcode']=='DC14546')\n",
    "\n",
    "df_diag_person['MI'] = np.where(condition, '1', '0')\n",
    "df_diag_person.head()"
   ]
  },
  {
   "cell_type": "code",
   "execution_count": 26,
   "metadata": {},
   "outputs": [
    {
     "data": {
      "text/plain": [
       "DC14546    2\n",
       "Name: diaglocalcode, dtype: int64"
      ]
     },
     "execution_count": 26,
     "metadata": {},
     "output_type": "execute_result"
    }
   ],
   "source": [
    "# Check the number of entries of a specific diagnostic code \n",
    "df_diag_person['diaglocalcode'][df_diag_person['diaglocalcode'] == \"DC14546\"].value_counts()"
   ]
  },
  {
   "cell_type": "code",
   "execution_count": 27,
   "metadata": {},
   "outputs": [
    {
     "data": {
      "text/plain": [
       "DC6671     26151\n",
       "DC7933     12467\n",
       "DC8645      8242\n",
       "DC1255      6840\n",
       "DC4775      5519\n",
       "           ...  \n",
       "DC4783         1\n",
       "DC6980         1\n",
       "DC13497        1\n",
       "DC12126        1\n",
       "DC3161         1\n",
       "Name: diaglocalcode, Length: 10213, dtype: int64"
      ]
     },
     "execution_count": 27,
     "metadata": {},
     "output_type": "execute_result"
    }
   ],
   "source": [
    "df_diag_person['diaglocalcode'].value_counts()"
   ]
  },
  {
   "cell_type": "code",
   "execution_count": 28,
   "metadata": {},
   "outputs": [
    {
     "data": {
      "text/plain": [
       "0    422474\n",
       "1      1889\n",
       "Name: MI, dtype: int64"
      ]
     },
     "execution_count": 28,
     "metadata": {},
     "output_type": "execute_result"
    }
   ],
   "source": [
    "df_diag_person['MI'].value_counts()"
   ]
  },
  {
   "cell_type": "code",
   "execution_count": 29,
   "metadata": {},
   "outputs": [
    {
     "data": {
      "text/plain": [
       "<matplotlib.axes._subplots.AxesSubplot at 0x118494128>"
      ]
     },
     "execution_count": 29,
     "metadata": {},
     "output_type": "execute_result"
    },
    {
     "data": {
      "image/png": "[encoded data removed]",
      "text/plain": [
       "<Figure size 720x360 with 1 Axes>"
      ]
     },
     "metadata": {
      "needs_background": "light"
     },
     "output_type": "display_data"
    }
   ],
   "source": [
    "df_diag_person['MI'].value_counts().plot(kind='bar', title='MI Count')"
   ]
  },
  {
   "cell_type": "code",
   "execution_count": 30,
   "metadata": {},
   "outputs": [
    {
     "data": {
      "text/html": [
       "<div>\n",
       "<style scoped>\n",
       "    .dataframe tbody tr th:only-of-type {\n",
       "        vertical-align: middle;\n",
       "    }\n",
       "\n",
       "    .dataframe tbody tr th {\n",
       "        vertical-align: top;\n",
       "    }\n",
       "\n",
       "    .dataframe thead th {\n",
       "        text-align: right;\n",
       "    }\n",
       "</style>\n",
       "<table border=\"1\" class=\"dataframe\">\n",
       "  <thead>\n",
       "    <tr style=\"text-align: right;\">\n",
       "      <th></th>\n",
       "      <th>personid</th>\n",
       "      <th>diagdate</th>\n",
       "      <th>diagcode</th>\n",
       "      <th>diaglocalcode</th>\n",
       "      <th>diagdept</th>\n",
       "      <th>sex</th>\n",
       "      <th>Birthyeargroup</th>\n",
       "      <th>ethnicity</th>\n",
       "      <th>MI</th>\n",
       "    </tr>\n",
       "  </thead>\n",
       "  <tbody>\n",
       "    <tr>\n",
       "      <th>0</th>\n",
       "      <td>68536</td>\n",
       "      <td>1994-08-30 02:37:00</td>\n",
       "      <td>K01.1</td>\n",
       "      <td>DC9189</td>\n",
       "      <td>I</td>\n",
       "      <td>1</td>\n",
       "      <td>16</td>\n",
       "      <td>1</td>\n",
       "      <td>0</td>\n",
       "    </tr>\n",
       "    <tr>\n",
       "      <th>1</th>\n",
       "      <td>216182</td>\n",
       "      <td>1995-01-03 23:45:00</td>\n",
       "      <td>G91.9</td>\n",
       "      <td>DC78</td>\n",
       "      <td>I</td>\n",
       "      <td>1</td>\n",
       "      <td>4</td>\n",
       "      <td>1</td>\n",
       "      <td>0</td>\n",
       "    </tr>\n",
       "    <tr>\n",
       "      <th>2</th>\n",
       "      <td>458392</td>\n",
       "      <td>1995-01-04 16:27:00</td>\n",
       "      <td>S72.20</td>\n",
       "      <td>DC13004</td>\n",
       "      <td>I</td>\n",
       "      <td>1</td>\n",
       "      <td>10</td>\n",
       "      <td>1</td>\n",
       "      <td>0</td>\n",
       "    </tr>\n",
       "    <tr>\n",
       "      <th>3</th>\n",
       "      <td>396139</td>\n",
       "      <td>1995-01-06 15:19:00</td>\n",
       "      <td>M19.99</td>\n",
       "      <td>DC7130</td>\n",
       "      <td>I</td>\n",
       "      <td>0</td>\n",
       "      <td>7</td>\n",
       "      <td>1</td>\n",
       "      <td>0</td>\n",
       "    </tr>\n",
       "    <tr>\n",
       "      <th>4</th>\n",
       "      <td>251126</td>\n",
       "      <td>1995-01-12 17:33:00</td>\n",
       "      <td>M95303</td>\n",
       "      <td>DC13765</td>\n",
       "      <td>I</td>\n",
       "      <td>0</td>\n",
       "      <td>11</td>\n",
       "      <td>1</td>\n",
       "      <td>0</td>\n",
       "    </tr>\n",
       "  </tbody>\n",
       "</table>\n",
       "</div>"
      ],
      "text/plain": [
       "   personid             diagdate diagcode diaglocalcode diagdept  sex  \\\n",
       "0     68536  1994-08-30 02:37:00    K01.1        DC9189        I    1   \n",
       "1    216182  1995-01-03 23:45:00    G91.9          DC78        I    1   \n",
       "2    458392  1995-01-04 16:27:00   S72.20       DC13004        I    1   \n",
       "3    396139  1995-01-06 15:19:00   M19.99        DC7130        I    0   \n",
       "4    251126  1995-01-12 17:33:00   M95303       DC13765        I    0   \n",
       "\n",
       "   Birthyeargroup  ethnicity MI  \n",
       "0              16          1  0  \n",
       "1               4          1  0  \n",
       "2              10          1  0  \n",
       "3               7          1  0  \n",
       "4              11          1  0  "
      ]
     },
     "execution_count": 30,
     "metadata": {},
     "output_type": "execute_result"
    }
   ],
   "source": [
    "df_diag_person.head()"
   ]
  },
  {
   "cell_type": "markdown",
   "metadata": {},
   "source": [
    "## 3. Merge to obtain the final dataset "
   ]
  },
  {
   "cell_type": "code",
   "execution_count": 31,
   "metadata": {},
   "outputs": [
    {
     "data": {
      "text/html": [
       "<div>\n",
       "<style scoped>\n",
       "    .dataframe tbody tr th:only-of-type {\n",
       "        vertical-align: middle;\n",
       "    }\n",
       "\n",
       "    .dataframe tbody tr th {\n",
       "        vertical-align: top;\n",
       "    }\n",
       "\n",
       "    .dataframe thead th {\n",
       "        text-align: right;\n",
       "    }\n",
       "</style>\n",
       "<table border=\"1\" class=\"dataframe\">\n",
       "  <thead>\n",
       "    <tr style=\"text-align: right;\">\n",
       "      <th></th>\n",
       "      <th>personid</th>\n",
       "      <th>RR</th>\n",
       "      <th>PR</th>\n",
       "      <th>QRS</th>\n",
       "      <th>QT</th>\n",
       "      <th>QTc</th>\n",
       "      <th>P_wave_axis</th>\n",
       "      <th>QRS_axis</th>\n",
       "      <th>T_wave_axis</th>\n",
       "      <th>ACCI</th>\n",
       "      <th>diagdate</th>\n",
       "      <th>diagcode</th>\n",
       "      <th>diaglocalcode</th>\n",
       "      <th>diagdept</th>\n",
       "      <th>sex</th>\n",
       "      <th>Birthyeargroup</th>\n",
       "      <th>ethnicity</th>\n",
       "      <th>MI</th>\n",
       "    </tr>\n",
       "  </thead>\n",
       "  <tbody>\n",
       "    <tr>\n",
       "      <th>0</th>\n",
       "      <td>304289</td>\n",
       "      <td>1111.0</td>\n",
       "      <td>126.0</td>\n",
       "      <td>92.0</td>\n",
       "      <td>436</td>\n",
       "      <td>413</td>\n",
       "      <td>72.0</td>\n",
       "      <td>67.0</td>\n",
       "      <td>40.0</td>\n",
       "      <td>1</td>\n",
       "      <td>2006-06-22 00:00:00</td>\n",
       "      <td>I10</td>\n",
       "      <td>DC1255</td>\n",
       "      <td>O</td>\n",
       "      <td>0</td>\n",
       "      <td>11</td>\n",
       "      <td>1</td>\n",
       "      <td>0</td>\n",
       "    </tr>\n",
       "    <tr>\n",
       "      <th>1</th>\n",
       "      <td>178604</td>\n",
       "      <td>896.0</td>\n",
       "      <td>138.0</td>\n",
       "      <td>86.0</td>\n",
       "      <td>380</td>\n",
       "      <td>401</td>\n",
       "      <td>28.0</td>\n",
       "      <td>20.0</td>\n",
       "      <td>46.0</td>\n",
       "      <td>3</td>\n",
       "      <td>1995-02-02 15:42:00</td>\n",
       "      <td>H16.0</td>\n",
       "      <td>DC3913</td>\n",
       "      <td>I</td>\n",
       "      <td>1</td>\n",
       "      <td>8</td>\n",
       "      <td>1</td>\n",
       "      <td>0</td>\n",
       "    </tr>\n",
       "    <tr>\n",
       "      <th>2</th>\n",
       "      <td>94846</td>\n",
       "      <td>706.0</td>\n",
       "      <td>122.0</td>\n",
       "      <td>72.0</td>\n",
       "      <td>338</td>\n",
       "      <td>402</td>\n",
       "      <td>49.0</td>\n",
       "      <td>78.0</td>\n",
       "      <td>36.0</td>\n",
       "      <td>0</td>\n",
       "      <td>1995-02-02 16:50:00</td>\n",
       "      <td>H26.4</td>\n",
       "      <td>DC10607</td>\n",
       "      <td>I</td>\n",
       "      <td>0</td>\n",
       "      <td>18</td>\n",
       "      <td>1</td>\n",
       "      <td>0</td>\n",
       "    </tr>\n",
       "    <tr>\n",
       "      <th>3</th>\n",
       "      <td>118894</td>\n",
       "      <td>870.0</td>\n",
       "      <td>136.0</td>\n",
       "      <td>92.0</td>\n",
       "      <td>378</td>\n",
       "      <td>405</td>\n",
       "      <td>75.0</td>\n",
       "      <td>78.0</td>\n",
       "      <td>73.0</td>\n",
       "      <td>2</td>\n",
       "      <td>1995-02-08 17:18:00</td>\n",
       "      <td>H66.9</td>\n",
       "      <td>DC6976</td>\n",
       "      <td>I</td>\n",
       "      <td>1</td>\n",
       "      <td>10</td>\n",
       "      <td>1</td>\n",
       "      <td>0</td>\n",
       "    </tr>\n",
       "    <tr>\n",
       "      <th>4</th>\n",
       "      <td>38370</td>\n",
       "      <td>723.0</td>\n",
       "      <td>198.0</td>\n",
       "      <td>106.0</td>\n",
       "      <td>346</td>\n",
       "      <td>406</td>\n",
       "      <td>79.0</td>\n",
       "      <td>79.0</td>\n",
       "      <td>46.0</td>\n",
       "      <td>0</td>\n",
       "      <td>1995-02-06 14:45:00</td>\n",
       "      <td>J34.2</td>\n",
       "      <td>DC5890</td>\n",
       "      <td>I</td>\n",
       "      <td>1</td>\n",
       "      <td>14</td>\n",
       "      <td>1</td>\n",
       "      <td>0</td>\n",
       "    </tr>\n",
       "    <tr>\n",
       "      <th>...</th>\n",
       "      <td>...</td>\n",
       "      <td>...</td>\n",
       "      <td>...</td>\n",
       "      <td>...</td>\n",
       "      <td>...</td>\n",
       "      <td>...</td>\n",
       "      <td>...</td>\n",
       "      <td>...</td>\n",
       "      <td>...</td>\n",
       "      <td>...</td>\n",
       "      <td>...</td>\n",
       "      <td>...</td>\n",
       "      <td>...</td>\n",
       "      <td>...</td>\n",
       "      <td>...</td>\n",
       "      <td>...</td>\n",
       "      <td>...</td>\n",
       "      <td>...</td>\n",
       "    </tr>\n",
       "    <tr>\n",
       "      <th>348285</th>\n",
       "      <td>1291</td>\n",
       "      <td>1034.0</td>\n",
       "      <td>180.0</td>\n",
       "      <td>94.0</td>\n",
       "      <td>440</td>\n",
       "      <td>431</td>\n",
       "      <td>75.0</td>\n",
       "      <td>89.0</td>\n",
       "      <td>45.0</td>\n",
       "      <td>7</td>\n",
       "      <td>2013-08-02 00:00:00</td>\n",
       "      <td>K30</td>\n",
       "      <td>DC2174</td>\n",
       "      <td>O</td>\n",
       "      <td>0</td>\n",
       "      <td>15</td>\n",
       "      <td>1</td>\n",
       "      <td>0</td>\n",
       "    </tr>\n",
       "    <tr>\n",
       "      <th>348286</th>\n",
       "      <td>289318</td>\n",
       "      <td>606.0</td>\n",
       "      <td>120.0</td>\n",
       "      <td>78.0</td>\n",
       "      <td>348</td>\n",
       "      <td>446</td>\n",
       "      <td>47.0</td>\n",
       "      <td>58.0</td>\n",
       "      <td>61.0</td>\n",
       "      <td>6</td>\n",
       "      <td>2013-08-01 00:14:00</td>\n",
       "      <td>T45.2</td>\n",
       "      <td>DC5852</td>\n",
       "      <td>I</td>\n",
       "      <td>1</td>\n",
       "      <td>22</td>\n",
       "      <td>1</td>\n",
       "      <td>0</td>\n",
       "    </tr>\n",
       "    <tr>\n",
       "      <th>348287</th>\n",
       "      <td>124810</td>\n",
       "      <td>667.0</td>\n",
       "      <td>150.0</td>\n",
       "      <td>96.0</td>\n",
       "      <td>384</td>\n",
       "      <td>469</td>\n",
       "      <td>26.0</td>\n",
       "      <td>-13.0</td>\n",
       "      <td>15.0</td>\n",
       "      <td>10</td>\n",
       "      <td>2013-08-05 00:00:00</td>\n",
       "      <td>D69.38</td>\n",
       "      <td>DC9023</td>\n",
       "      <td>O</td>\n",
       "      <td>1</td>\n",
       "      <td>14</td>\n",
       "      <td>1</td>\n",
       "      <td>0</td>\n",
       "    </tr>\n",
       "    <tr>\n",
       "      <th>348288</th>\n",
       "      <td>346968</td>\n",
       "      <td>789.0</td>\n",
       "      <td>172.0</td>\n",
       "      <td>160.0</td>\n",
       "      <td>450</td>\n",
       "      <td>506</td>\n",
       "      <td>89.0</td>\n",
       "      <td>68.0</td>\n",
       "      <td>15.0</td>\n",
       "      <td>9</td>\n",
       "      <td>2013-08-01 16:38:00</td>\n",
       "      <td>K92.2</td>\n",
       "      <td>DC2301</td>\n",
       "      <td>I</td>\n",
       "      <td>1</td>\n",
       "      <td>11</td>\n",
       "      <td>1</td>\n",
       "      <td>0</td>\n",
       "    </tr>\n",
       "    <tr>\n",
       "      <th>348289</th>\n",
       "      <td>308549</td>\n",
       "      <td>909.0</td>\n",
       "      <td>154.0</td>\n",
       "      <td>98.0</td>\n",
       "      <td>370</td>\n",
       "      <td>387</td>\n",
       "      <td>40.0</td>\n",
       "      <td>54.0</td>\n",
       "      <td>33.0</td>\n",
       "      <td>6</td>\n",
       "      <td>2013-07-31 22:48:00</td>\n",
       "      <td>R55.8</td>\n",
       "      <td>DC7690</td>\n",
       "      <td>E</td>\n",
       "      <td>1</td>\n",
       "      <td>21</td>\n",
       "      <td>1</td>\n",
       "      <td>0</td>\n",
       "    </tr>\n",
       "  </tbody>\n",
       "</table>\n",
       "<p>348290 rows × 18 columns</p>\n",
       "</div>"
      ],
      "text/plain": [
       "        personid      RR     PR    QRS   QT  QTc  P_wave_axis  QRS_axis  \\\n",
       "0         304289  1111.0  126.0   92.0  436  413         72.0      67.0   \n",
       "1         178604   896.0  138.0   86.0  380  401         28.0      20.0   \n",
       "2          94846   706.0  122.0   72.0  338  402         49.0      78.0   \n",
       "3         118894   870.0  136.0   92.0  378  405         75.0      78.0   \n",
       "4          38370   723.0  198.0  106.0  346  406         79.0      79.0   \n",
       "...          ...     ...    ...    ...  ...  ...          ...       ...   \n",
       "348285      1291  1034.0  180.0   94.0  440  431         75.0      89.0   \n",
       "348286    289318   606.0  120.0   78.0  348  446         47.0      58.0   \n",
       "348287    124810   667.0  150.0   96.0  384  469         26.0     -13.0   \n",
       "348288    346968   789.0  172.0  160.0  450  506         89.0      68.0   \n",
       "348289    308549   909.0  154.0   98.0  370  387         40.0      54.0   \n",
       "\n",
       "        T_wave_axis  ACCI             diagdate diagcode diaglocalcode  \\\n",
       "0              40.0     1  2006-06-22 00:00:00      I10        DC1255   \n",
       "1              46.0     3  1995-02-02 15:42:00    H16.0        DC3913   \n",
       "2              36.0     0  1995-02-02 16:50:00    H26.4       DC10607   \n",
       "3              73.0     2  1995-02-08 17:18:00    H66.9        DC6976   \n",
       "4              46.0     0  1995-02-06 14:45:00    J34.2        DC5890   \n",
       "...             ...   ...                  ...      ...           ...   \n",
       "348285         45.0     7  2013-08-02 00:00:00      K30        DC2174   \n",
       "348286         61.0     6  2013-08-01 00:14:00    T45.2        DC5852   \n",
       "348287         15.0    10  2013-08-05 00:00:00   D69.38        DC9023   \n",
       "348288         15.0     9  2013-08-01 16:38:00    K92.2        DC2301   \n",
       "348289         33.0     6  2013-07-31 22:48:00    R55.8        DC7690   \n",
       "\n",
       "       diagdept  sex  Birthyeargroup  ethnicity MI  \n",
       "0             O    0              11          1  0  \n",
       "1             I    1               8          1  0  \n",
       "2             I    0              18          1  0  \n",
       "3             I    1              10          1  0  \n",
       "4             I    1              14          1  0  \n",
       "...         ...  ...             ...        ... ..  \n",
       "348285        O    0              15          1  0  \n",
       "348286        I    1              22          1  0  \n",
       "348287        O    1              14          1  0  \n",
       "348288        I    1              11          1  0  \n",
       "348289        E    1              21          1  0  \n",
       "\n",
       "[348290 rows x 18 columns]"
      ]
     },
     "execution_count": 31,
     "metadata": {},
     "output_type": "execute_result"
    }
   ],
   "source": [
    "# Merge the ecg dataset with the combined diagnosis/personal info dataset with the common column (personid)\n",
    "df_1 = pd.merge(df_three, df_diag_person, on='personid')\n",
    "df_1"
   ]
  },
  {
   "cell_type": "code",
   "execution_count": 32,
   "metadata": {},
   "outputs": [
    {
     "data": {
      "text/html": [
       "<div>\n",
       "<style scoped>\n",
       "    .dataframe tbody tr th:only-of-type {\n",
       "        vertical-align: middle;\n",
       "    }\n",
       "\n",
       "    .dataframe tbody tr th {\n",
       "        vertical-align: top;\n",
       "    }\n",
       "\n",
       "    .dataframe thead th {\n",
       "        text-align: right;\n",
       "    }\n",
       "</style>\n",
       "<table border=\"1\" class=\"dataframe\">\n",
       "  <thead>\n",
       "    <tr style=\"text-align: right;\">\n",
       "      <th></th>\n",
       "      <th>RR</th>\n",
       "      <th>PR</th>\n",
       "      <th>QRS</th>\n",
       "      <th>QT</th>\n",
       "      <th>QTc</th>\n",
       "      <th>P_wave_axis</th>\n",
       "      <th>QRS_axis</th>\n",
       "      <th>T_wave_axis</th>\n",
       "      <th>ACCI</th>\n",
       "      <th>sex</th>\n",
       "      <th>Birthyeargroup</th>\n",
       "      <th>MI</th>\n",
       "    </tr>\n",
       "  </thead>\n",
       "  <tbody>\n",
       "    <tr>\n",
       "      <th>0</th>\n",
       "      <td>1111.0</td>\n",
       "      <td>126.0</td>\n",
       "      <td>92.0</td>\n",
       "      <td>436</td>\n",
       "      <td>413</td>\n",
       "      <td>72.0</td>\n",
       "      <td>67.0</td>\n",
       "      <td>40.0</td>\n",
       "      <td>1</td>\n",
       "      <td>0</td>\n",
       "      <td>11</td>\n",
       "      <td>0</td>\n",
       "    </tr>\n",
       "    <tr>\n",
       "      <th>1</th>\n",
       "      <td>896.0</td>\n",
       "      <td>138.0</td>\n",
       "      <td>86.0</td>\n",
       "      <td>380</td>\n",
       "      <td>401</td>\n",
       "      <td>28.0</td>\n",
       "      <td>20.0</td>\n",
       "      <td>46.0</td>\n",
       "      <td>3</td>\n",
       "      <td>1</td>\n",
       "      <td>8</td>\n",
       "      <td>0</td>\n",
       "    </tr>\n",
       "    <tr>\n",
       "      <th>2</th>\n",
       "      <td>706.0</td>\n",
       "      <td>122.0</td>\n",
       "      <td>72.0</td>\n",
       "      <td>338</td>\n",
       "      <td>402</td>\n",
       "      <td>49.0</td>\n",
       "      <td>78.0</td>\n",
       "      <td>36.0</td>\n",
       "      <td>0</td>\n",
       "      <td>0</td>\n",
       "      <td>18</td>\n",
       "      <td>0</td>\n",
       "    </tr>\n",
       "    <tr>\n",
       "      <th>3</th>\n",
       "      <td>870.0</td>\n",
       "      <td>136.0</td>\n",
       "      <td>92.0</td>\n",
       "      <td>378</td>\n",
       "      <td>405</td>\n",
       "      <td>75.0</td>\n",
       "      <td>78.0</td>\n",
       "      <td>73.0</td>\n",
       "      <td>2</td>\n",
       "      <td>1</td>\n",
       "      <td>10</td>\n",
       "      <td>0</td>\n",
       "    </tr>\n",
       "    <tr>\n",
       "      <th>4</th>\n",
       "      <td>723.0</td>\n",
       "      <td>198.0</td>\n",
       "      <td>106.0</td>\n",
       "      <td>346</td>\n",
       "      <td>406</td>\n",
       "      <td>79.0</td>\n",
       "      <td>79.0</td>\n",
       "      <td>46.0</td>\n",
       "      <td>0</td>\n",
       "      <td>1</td>\n",
       "      <td>14</td>\n",
       "      <td>0</td>\n",
       "    </tr>\n",
       "  </tbody>\n",
       "</table>\n",
       "</div>"
      ],
      "text/plain": [
       "       RR     PR    QRS   QT  QTc  P_wave_axis  QRS_axis  T_wave_axis  ACCI  \\\n",
       "0  1111.0  126.0   92.0  436  413         72.0      67.0         40.0     1   \n",
       "1   896.0  138.0   86.0  380  401         28.0      20.0         46.0     3   \n",
       "2   706.0  122.0   72.0  338  402         49.0      78.0         36.0     0   \n",
       "3   870.0  136.0   92.0  378  405         75.0      78.0         73.0     2   \n",
       "4   723.0  198.0  106.0  346  406         79.0      79.0         46.0     0   \n",
       "\n",
       "   sex  Birthyeargroup MI  \n",
       "0    0              11  0  \n",
       "1    1               8  0  \n",
       "2    0              18  0  \n",
       "3    1              10  0  \n",
       "4    1              14  0  "
      ]
     },
     "execution_count": 32,
     "metadata": {},
     "output_type": "execute_result"
    }
   ],
   "source": [
    "df_2 = df_1.drop(columns = ['diagdate', 'diagcode', 'diaglocalcode','diagdept', 'personid', 'ethnicity'])\n",
    "df_2.head()"
   ]
  },
  {
   "cell_type": "code",
   "execution_count": 33,
   "metadata": {},
   "outputs": [
    {
     "data": {
      "text/plain": [
       "14    35795\n",
       "15    32713\n",
       "13    32066\n",
       "16    28989\n",
       "12    24051\n",
       "10    23612\n",
       "11    22553\n",
       "9     22336\n",
       "17    21913\n",
       "18    17971\n",
       "8     15008\n",
       "20    13934\n",
       "19    12859\n",
       "21    12637\n",
       "22     9303\n",
       "7      8438\n",
       "23     5886\n",
       "6      4293\n",
       "24     2043\n",
       "5      1416\n",
       "4       382\n",
       "3        78\n",
       "2         8\n",
       "1         5\n",
       "0         1\n",
       "Name: Birthyeargroup, dtype: int64"
      ]
     },
     "execution_count": 33,
     "metadata": {},
     "output_type": "execute_result"
    }
   ],
   "source": [
    "df_2['Birthyeargroup'].value_counts()"
   ]
  },
  {
   "cell_type": "code",
   "execution_count": 34,
   "metadata": {},
   "outputs": [
    {
     "data": {
      "text/plain": [
       "(348290, 12)"
      ]
     },
     "execution_count": 34,
     "metadata": {},
     "output_type": "execute_result"
    }
   ],
   "source": [
    "df_2.shape"
   ]
  },
  {
   "cell_type": "code",
   "execution_count": 35,
   "metadata": {},
   "outputs": [
    {
     "data": {
      "text/plain": [
       "0    346665\n",
       "1      1625\n",
       "Name: MI, dtype: int64"
      ]
     },
     "execution_count": 35,
     "metadata": {},
     "output_type": "execute_result"
    }
   ],
   "source": [
    "df_2['MI'].value_counts()"
   ]
  },
  {
   "cell_type": "code",
   "execution_count": 36,
   "metadata": {},
   "outputs": [
    {
     "data": {
      "text/plain": [
       "<matplotlib.axes._subplots.AxesSubplot at 0x10c61a8d0>"
      ]
     },
     "execution_count": 36,
     "metadata": {},
     "output_type": "execute_result"
    },
    {
     "data": {
      "image/png": "[encoded data removed]",
      "text/plain": [
       "<Figure size 720x360 with 2 Axes>"
      ]
     },
     "metadata": {
      "needs_background": "light"
     },
     "output_type": "display_data"
    }
   ],
   "source": [
    "# Created a correlation matrix\n",
    "correlation_matrix = df_2.corr().round(2)\n",
    "# annot = True to print the values inside the square\n",
    "sns.heatmap(data=correlation_matrix, annot=True)"
   ]
  },
  {
   "cell_type": "markdown",
   "metadata": {},
   "source": [
    "## 4. Split train and test data"
   ]
  },
  {
   "cell_type": "code",
   "execution_count": 68,
   "metadata": {
    "scrolled": true
   },
   "outputs": [
    {
     "data": {
      "text/plain": [
       "(348290, 12)"
      ]
     },
     "execution_count": 68,
     "metadata": {},
     "output_type": "execute_result"
    }
   ],
   "source": [
    "train_data = df_2.values\n",
    "train_data.shape"
   ]
  },
  {
   "cell_type": "code",
   "execution_count": 71,
   "metadata": {},
   "outputs": [
    {
     "name": "stdout",
     "output_type": "stream",
     "text": [
      "(348290, 11) (348290,)\n",
      "(278632, 11) (278632,)\n",
      "(69658, 11) (69658,)\n"
     ]
    }
   ],
   "source": [
    "from sklearn import metrics\n",
    "from sklearn.model_selection import train_test_split\n",
    "\n",
    "# Training data features\n",
    "train_features = train_data[:, 0:11]\n",
    "\n",
    "# 'MI' column values\n",
    "train_target = train_data[:, 11]\n",
    "\n",
    "# Split 80-20 train vs test data\n",
    "train_x, test_x, train_y, test_y = train_test_split(train_features, \n",
    "                                                    train_target, \n",
    "                                                    test_size=0.20, \n",
    "                                                    random_state=0,\n",
    "                                                    shuffle=True)\n",
    "\n",
    "print (train_features.shape, train_target.shape)\n",
    "print (train_x.shape, train_y.shape)\n",
    "print (test_x.shape, test_y.shape)"
   ]
  },
  {
   "cell_type": "code",
   "execution_count": 39,
   "metadata": {},
   "outputs": [
    {
     "data": {
      "text/plain": [
       "{'0': 277321, '1': 1311}"
      ]
     },
     "execution_count": 39,
     "metadata": {},
     "output_type": "execute_result"
    }
   ],
   "source": [
    "unique, counts = np.unique(train_y, return_counts=True)\n",
    "dict(zip(unique, counts))"
   ]
  },
  {
   "cell_type": "code",
   "execution_count": 40,
   "metadata": {},
   "outputs": [
    {
     "data": {
      "text/plain": [
       "{'0': 69344, '1': 314}"
      ]
     },
     "execution_count": 40,
     "metadata": {},
     "output_type": "execute_result"
    }
   ],
   "source": [
    "unique, counts = np.unique(test_y, return_counts=True)\n",
    "dict(zip(unique, counts))"
   ]
  },
  {
   "cell_type": "markdown",
   "metadata": {},
   "source": [
    "## 5. Convolutional Neural Network "
   ]
  },
  {
   "cell_type": "code",
   "execution_count": 41,
   "metadata": {},
   "outputs": [
    {
     "name": "stderr",
     "output_type": "stream",
     "text": [
      "Using TensorFlow backend.\n"
     ]
    }
   ],
   "source": [
    "# importing libraries\n",
    "from keras import optimizers, losses, activations, models\n",
    "from keras.callbacks import ModelCheckpoint, EarlyStopping, LearningRateScheduler, ReduceLROnPlateau\n",
    "from keras.layers import Dense, Input, Dropout, Convolution1D, MaxPool1D, GlobalMaxPool1D, GlobalAveragePooling1D, \\\n",
    "    concatenate\n",
    "from keras import regularizers\n",
    "from keras.utils import to_categorical\n",
    "from sklearn.metrics import f1_score, accuracy_score, roc_auc_score\n",
    "from sklearn import preprocessing\n",
    "import imblearn\n",
    "from imblearn.under_sampling import RandomUnderSampler\n",
    "from imblearn.over_sampling import SMOTE\n",
    "from imblearn.pipeline import Pipeline\n",
    "from plotly.offline import download_plotlyjs, init_notebook_mode, plot, iplot\n",
    "from collections import Counter\n",
    "import random"
   ]
  },
  {
   "cell_type": "code",
   "execution_count": 80,
   "metadata": {},
   "outputs": [],
   "source": [
    "# preprocessing data \n",
    "train_data_normalized=preprocessing.normalize(train_data)\n",
    "\n",
    "# Training data features\n",
    "train_features_normalized = train_data_normalized[:, 0:11]\n",
    "\n",
    "# 'MI' column values\n",
    "train_target_normalized = train_data[:, 11]\n"
   ]
  },
  {
   "cell_type": "code",
   "execution_count": 81,
   "metadata": {},
   "outputs": [],
   "source": [
    "# minority oversampling using SMOTE\n",
    "over = SMOTE(sampling_strategy=0.1) # get 10% of the data from minority\n",
    "under = RandomUnderSampler(sampling_strategy=0.5) # make majority only 50% more than the minorirt in final dataset\n",
    "steps = [('o', over), ('u', under)]\n",
    "pipeline = Pipeline(steps=steps)\n",
    "# transform the dataset\n",
    "x_re_normalized, y_re_normalized = pipeline.fit_resample(train_features_normalized, train_target_normalized)\n"
   ]
  },
  {
   "cell_type": "code",
   "execution_count": 82,
   "metadata": {},
   "outputs": [],
   "source": [
    "# split 80-20 train vs test data after resampling\n",
    "cnn_train_x, cnn_test_x, cnn_train_y, cnn_test_y = train_test_split(x_re_normalized, \n",
    "                                                    y_re_normalized, \n",
    "                                                    test_size=0.20, \n",
    "                                                    random_state=0,\n",
    "                                                    shuffle=True)"
   ]
  },
  {
   "cell_type": "code",
   "execution_count": 83,
   "metadata": {},
   "outputs": [],
   "source": [
    "# getting data into correct format for tensorflow backend\n",
    "\n",
    "# exporting data as a csv, combining x and y into one csv file\n",
    "df_cnn_train_x=pd.DataFrame(data=cnn_train_x)\n",
    "df_cnn_train_x.to_csv('trainx.csv', index=False)\n",
    "df_cnn_train_y=pd.DataFrame(data=cnn_train_y)\n",
    "df_cnn_train_y.to_csv('trainy.csv', index=False)\n",
    "df_cnn_test_x=pd.DataFrame(data=cnn_test_x)\n",
    "df_cnn_test_x.to_csv('testx.csv', index=False)\n",
    "df_cnn_test_y=pd.DataFrame(data=cnn_test_y)\n",
    "df_cnn_test_y.to_csv('testy.csv', index=False)"
   ]
  },
  {
   "cell_type": "code",
   "execution_count": 84,
   "metadata": {},
   "outputs": [],
   "source": [
    "# getting data into correct format for tensorflow backend\n",
    "df_cnn_train = pd.read_csv(\"train.csv\", header=None)\n",
    "df_cnn_train = df_cnn_train.sample(frac=1)\n",
    "df_cnn_test = pd.read_csv(\"test.csv\", header=None)\n",
    "\n",
    "y_cnn = np.array(df_cnn_train[11].values).astype(np.int8)\n",
    "y_cnn=to_categorical(y_cnn)\n",
    "x_cnn = np.array(df_cnn_train[list(range(11))].values)[..., np.newaxis]\n",
    "y_cnn_test = np.array(df_cnn_test[11].values).astype(np.int8)\n",
    "x_cnn_test = np.array(df_cnn_test[list(range(11))].values)[..., np.newaxis]"
   ]
  },
  {
   "cell_type": "code",
   "execution_count": 85,
   "metadata": {},
   "outputs": [],
   "source": [
    "def get_model():\n",
    "    # number of categories in our problem\n",
    "    nclass = 2\n",
    "    # shape of input\n",
    "    inp = Input(shape=(11, 1))\n",
    "    \n",
    "    # 1 -- 16 filters\n",
    "    img_1 = Convolution1D(16, kernel_size=5, activation=activations.relu, padding=\"valid\")(inp)\n",
    "    img_1 = Dropout(rate=0.1)(img_1) #to prevent overfitting\n",
    "\n",
    "    # 2 -- 32 filters\n",
    "    img_1 = Convolution1D(32, kernel_size=3, activation=activations.relu, padding=\"valid\")(img_1)\n",
    "    img_1 = Dropout(rate=0.1)(img_1) #to prevent overfitting\n",
    "    \n",
    "    # 3 -- 64 filters\n",
    "    img_1 = Convolution1D(64, kernel_size=3, activation=activations.relu, padding=\"valid\")(img_1)\n",
    "    img_1 = Dropout(rate=0.1)(img_1) #to prevent overfitting\n",
    "    \n",
    "    # 2 -- 256 filters # NEW\n",
    "    img_1 = Convolution1D(256, kernel_size=3, activation=activations.relu, padding=\"valid\")(img_1)\n",
    "    img_1 = GlobalMaxPool1D()(img_1)\n",
    "    img_1 = Dropout(rate=0.1)(img_1) #to prevent overfitting\n",
    "    \n",
    "    # 4 -- Dense layers\n",
    "    dense_1 = Dense(64, activation=activations.relu, name=\"dense_1\", kernel_regularizer=regularizers.l2(l=0.1))(img_1)\n",
    "    dense_1 = Dense(16, activation=activations.relu, name=\"dense_2\", kernel_regularizer=regularizers.l2(l=0.1))(dense_1)\n",
    "    dense_1 = Dense(nclass, activation=activations.softmax, name=\"dense_3_ecg_view\")(dense_1)\n",
    "    \n",
    "    \n",
    "    model = models.Model(inputs=inp, outputs=dense_1)\n",
    "    opt = optimizers.Adam(0.001)\n",
    "\n",
    "    model.compile(optimizer=opt, loss=losses.binary_crossentropy, metrics=['acc'])\n",
    "    model.summary()\n",
    "    return model"
   ]
  },
  {
   "cell_type": "code",
   "execution_count": 86,
   "metadata": {},
   "outputs": [
    {
     "name": "stdout",
     "output_type": "stream",
     "text": [
      "Model: \"model_3\"\n",
      "_________________________________________________________________\n",
      "Layer (type)                 Output Shape              Param #   \n",
      "=================================================================\n",
      "input_3 (InputLayer)         (None, 11, 1)             0         \n",
      "_________________________________________________________________\n",
      "conv1d_9 (Conv1D)            (None, 7, 16)             96        \n",
      "_________________________________________________________________\n",
      "dropout_9 (Dropout)          (None, 7, 16)             0         \n",
      "_________________________________________________________________\n",
      "conv1d_10 (Conv1D)           (None, 5, 32)             1568      \n",
      "_________________________________________________________________\n",
      "dropout_10 (Dropout)         (None, 5, 32)             0         \n",
      "_________________________________________________________________\n",
      "conv1d_11 (Conv1D)           (None, 3, 64)             6208      \n",
      "_________________________________________________________________\n",
      "dropout_11 (Dropout)         (None, 3, 64)             0         \n",
      "_________________________________________________________________\n",
      "conv1d_12 (Conv1D)           (None, 1, 256)            49408     \n",
      "_________________________________________________________________\n",
      "global_max_pooling1d_3 (Glob (None, 256)               0         \n",
      "_________________________________________________________________\n",
      "dropout_12 (Dropout)         (None, 256)               0         \n",
      "_________________________________________________________________\n",
      "dense_1 (Dense)              (None, 64)                16448     \n",
      "_________________________________________________________________\n",
      "dense_2 (Dense)              (None, 16)                1040      \n",
      "_________________________________________________________________\n",
      "dense_3_ecg_view (Dense)     (None, 2)                 34        \n",
      "=================================================================\n",
      "Total params: 74,802\n",
      "Trainable params: 74,802\n",
      "Non-trainable params: 0\n",
      "_________________________________________________________________\n",
      "Train on 74878 samples, validate on 8320 samples\n",
      "Epoch 1/1000\n",
      " - 15s - loss: 0.8057 - acc: 0.7394 - val_loss: 0.4735 - val_acc: 0.7864\n",
      "\n",
      "Epoch 00001: val_acc improved from -inf to 0.78642, saving model to baseline_cnn_ecgview.h5\n",
      "Epoch 2/1000\n",
      " - 15s - loss: 0.4682 - acc: 0.7793 - val_loss: 0.4352 - val_acc: 0.7936\n",
      "\n",
      "Epoch 00002: val_acc improved from 0.78642 to 0.79363, saving model to baseline_cnn_ecgview.h5\n",
      "Epoch 3/1000\n",
      " - 17s - loss: 0.4468 - acc: 0.7865 - val_loss: 0.4233 - val_acc: 0.7929\n",
      "\n",
      "Epoch 00003: val_acc did not improve from 0.79363\n",
      "Epoch 4/1000\n",
      " - 16s - loss: 0.4379 - acc: 0.7884 - val_loss: 0.4169 - val_acc: 0.7959\n",
      "\n",
      "Epoch 00004: val_acc improved from 0.79363 to 0.79591, saving model to baseline_cnn_ecgview.h5\n",
      "Epoch 5/1000\n",
      " - 12s - loss: 0.4337 - acc: 0.7900 - val_loss: 0.4130 - val_acc: 0.8010\n",
      "\n",
      "Epoch 00005: val_acc improved from 0.79591 to 0.80096, saving model to baseline_cnn_ecgview.h5\n",
      "Epoch 6/1000\n",
      " - 13s - loss: 0.4300 - acc: 0.7921 - val_loss: 0.4084 - val_acc: 0.8020\n",
      "\n",
      "Epoch 00006: val_acc improved from 0.80096 to 0.80204, saving model to baseline_cnn_ecgview.h5\n",
      "Epoch 7/1000\n",
      " - 15s - loss: 0.4261 - acc: 0.7938 - val_loss: 0.4078 - val_acc: 0.7989\n",
      "\n",
      "Epoch 00007: val_acc did not improve from 0.80204\n",
      "Epoch 8/1000\n",
      " - 13s - loss: 0.4246 - acc: 0.7937 - val_loss: 0.4099 - val_acc: 0.7960\n",
      "\n",
      "Epoch 00008: val_acc did not improve from 0.80204\n",
      "Epoch 9/1000\n",
      " - 15s - loss: 0.4208 - acc: 0.7960 - val_loss: 0.4009 - val_acc: 0.8023\n",
      "\n",
      "Epoch 00009: val_acc improved from 0.80204 to 0.80228, saving model to baseline_cnn_ecgview.h5\n",
      "Epoch 10/1000\n",
      " - 15s - loss: 0.4189 - acc: 0.7952 - val_loss: 0.4012 - val_acc: 0.8010\n",
      "\n",
      "Epoch 00010: val_acc did not improve from 0.80228\n",
      "Epoch 11/1000\n",
      " - 15s - loss: 0.4168 - acc: 0.7969 - val_loss: 0.4031 - val_acc: 0.7995\n",
      "\n",
      "Epoch 00011: val_acc did not improve from 0.80228\n",
      "Epoch 12/1000\n",
      " - 16s - loss: 0.4150 - acc: 0.7973 - val_loss: 0.3984 - val_acc: 0.8030\n",
      "\n",
      "Epoch 00012: val_acc improved from 0.80228 to 0.80300, saving model to baseline_cnn_ecgview.h5\n",
      "Epoch 13/1000\n",
      " - 13s - loss: 0.4125 - acc: 0.7977 - val_loss: 0.4020 - val_acc: 0.8083\n",
      "\n",
      "Epoch 00013: val_acc improved from 0.80300 to 0.80829, saving model to baseline_cnn_ecgview.h5\n",
      "Epoch 14/1000\n",
      " - 13s - loss: 0.4108 - acc: 0.7998 - val_loss: 0.4011 - val_acc: 0.8052\n",
      "\n",
      "Epoch 00014: val_acc did not improve from 0.80829\n",
      "Epoch 15/1000\n",
      " - 13s - loss: 0.4097 - acc: 0.7984 - val_loss: 0.3934 - val_acc: 0.8058\n",
      "\n",
      "Epoch 00015: val_acc did not improve from 0.80829\n",
      "Epoch 16/1000\n",
      " - 14s - loss: 0.4064 - acc: 0.8021 - val_loss: 0.3844 - val_acc: 0.8099\n",
      "\n",
      "Epoch 00016: val_acc improved from 0.80829 to 0.80986, saving model to baseline_cnn_ecgview.h5\n",
      "Epoch 17/1000\n",
      " - 14s - loss: 0.4042 - acc: 0.8023 - val_loss: 0.3871 - val_acc: 0.8090\n",
      "\n",
      "Epoch 00017: val_acc did not improve from 0.80986\n",
      "Epoch 18/1000\n",
      " - 12s - loss: 0.4019 - acc: 0.8032 - val_loss: 0.3824 - val_acc: 0.8107\n",
      "\n",
      "Epoch 00018: val_acc improved from 0.80986 to 0.81070, saving model to baseline_cnn_ecgview.h5\n",
      "Epoch 19/1000\n",
      " - 11s - loss: 0.3999 - acc: 0.8043 - val_loss: 0.3748 - val_acc: 0.8161\n",
      "\n",
      "Epoch 00019: val_acc improved from 0.81070 to 0.81611, saving model to baseline_cnn_ecgview.h5\n",
      "Epoch 20/1000\n",
      " - 14s - loss: 0.3960 - acc: 0.8068 - val_loss: 0.3769 - val_acc: 0.8135\n",
      "\n",
      "Epoch 00020: val_acc did not improve from 0.81611\n",
      "Epoch 21/1000\n",
      " - 14s - loss: 0.3942 - acc: 0.8076 - val_loss: 0.3712 - val_acc: 0.8179\n",
      "\n",
      "Epoch 00021: val_acc improved from 0.81611 to 0.81791, saving model to baseline_cnn_ecgview.h5\n",
      "Epoch 22/1000\n",
      " - 12s - loss: 0.3913 - acc: 0.8097 - val_loss: 0.3725 - val_acc: 0.8151\n",
      "\n",
      "Epoch 00022: val_acc did not improve from 0.81791\n",
      "Epoch 23/1000\n",
      " - 12s - loss: 0.3877 - acc: 0.8095 - val_loss: 0.3716 - val_acc: 0.8166\n",
      "\n",
      "Epoch 00023: val_acc did not improve from 0.81791\n",
      "Epoch 24/1000\n",
      " - 10s - loss: 0.3862 - acc: 0.8133 - val_loss: 0.3629 - val_acc: 0.8179\n",
      "\n",
      "Epoch 00024: val_acc did not improve from 0.81791\n",
      "\n",
      "Epoch 00024: ReduceLROnPlateau reducing learning rate to 0.00010000000474974513.\n",
      "Epoch 25/1000\n",
      " - 14s - loss: 0.3729 - acc: 0.8196 - val_loss: 0.3587 - val_acc: 0.8243\n",
      "\n",
      "Epoch 00025: val_acc improved from 0.81791 to 0.82428, saving model to baseline_cnn_ecgview.h5\n",
      "Epoch 26/1000\n",
      " - 16s - loss: 0.3706 - acc: 0.8211 - val_loss: 0.3584 - val_acc: 0.8250\n",
      "\n",
      "Epoch 00026: val_acc improved from 0.82428 to 0.82500, saving model to baseline_cnn_ecgview.h5\n",
      "Epoch 27/1000\n",
      " - 14s - loss: 0.3700 - acc: 0.8228 - val_loss: 0.3556 - val_acc: 0.8255\n",
      "\n",
      "Epoch 00027: val_acc improved from 0.82500 to 0.82548, saving model to baseline_cnn_ecgview.h5\n",
      "Epoch 28/1000\n",
      " - 11s - loss: 0.3694 - acc: 0.8234 - val_loss: 0.3601 - val_acc: 0.8243\n",
      "\n",
      "Epoch 00028: val_acc did not improve from 0.82548\n",
      "Epoch 29/1000\n",
      " - 9s - loss: 0.3687 - acc: 0.8232 - val_loss: 0.3535 - val_acc: 0.8252\n",
      "\n",
      "Epoch 00029: val_acc did not improve from 0.82548\n",
      "Epoch 30/1000\n",
      " - 9s - loss: 0.3684 - acc: 0.8224 - val_loss: 0.3566 - val_acc: 0.8262\n",
      "\n",
      "Epoch 00030: val_acc improved from 0.82548 to 0.82620, saving model to baseline_cnn_ecgview.h5\n",
      "Epoch 31/1000\n",
      " - 9s - loss: 0.3680 - acc: 0.8228 - val_loss: 0.3532 - val_acc: 0.8244\n",
      "\n",
      "Epoch 00031: val_acc did not improve from 0.82620\n",
      "Epoch 32/1000\n",
      " - 9s - loss: 0.3685 - acc: 0.8236 - val_loss: 0.3536 - val_acc: 0.8274\n",
      "\n",
      "Epoch 00032: val_acc improved from 0.82620 to 0.82740, saving model to baseline_cnn_ecgview.h5\n",
      "Epoch 33/1000\n",
      " - 10s - loss: 0.3668 - acc: 0.8222 - val_loss: 0.3524 - val_acc: 0.8262\n",
      "\n",
      "Epoch 00033: val_acc did not improve from 0.82740\n",
      "Epoch 34/1000\n",
      " - 11s - loss: 0.3679 - acc: 0.8247 - val_loss: 0.3529 - val_acc: 0.8282\n",
      "\n",
      "Epoch 00034: val_acc improved from 0.82740 to 0.82825, saving model to baseline_cnn_ecgview.h5\n",
      "Epoch 35/1000\n",
      " - 15s - loss: 0.3665 - acc: 0.8243 - val_loss: 0.3548 - val_acc: 0.8244\n",
      "\n",
      "Epoch 00035: val_acc did not improve from 0.82825\n",
      "Epoch 36/1000\n",
      " - 12s - loss: 0.3669 - acc: 0.8246 - val_loss: 0.3520 - val_acc: 0.8273\n",
      "\n",
      "Epoch 00036: val_acc did not improve from 0.82825\n",
      "Epoch 37/1000\n",
      " - 11s - loss: 0.3668 - acc: 0.8243 - val_loss: 0.3510 - val_acc: 0.8262\n",
      "\n",
      "Epoch 00037: val_acc did not improve from 0.82825\n",
      "\n",
      "Epoch 00037: ReduceLROnPlateau reducing learning rate to 1.0000000474974514e-05.\n",
      "Epoch 38/1000\n"
     ]
    },
    {
     "name": "stdout",
     "output_type": "stream",
     "text": [
      " - 11s - loss: 0.3648 - acc: 0.8250 - val_loss: 0.3518 - val_acc: 0.8268\n",
      "\n",
      "Epoch 00038: val_acc did not improve from 0.82825\n",
      "Epoch 39/1000\n",
      " - 10s - loss: 0.3648 - acc: 0.8251 - val_loss: 0.3516 - val_acc: 0.8266\n",
      "\n",
      "Epoch 00039: val_acc did not improve from 0.82825\n",
      "Epoch 00039: early stopping\n",
      "Test f1 score : 0.8072497688041211 \n",
      "Test ROC AUC Score : 0.806057114724021 \n"
     ]
    }
   ],
   "source": [
    "model = get_model()\n",
    "file_path = \"baseline_cnn_ecgview.h5\"\n",
    "\n",
    "# checkpointing the model's weight based on the accuracy of the model\n",
    "checkpoint = ModelCheckpoint(file_path, monitor='val_acc', verbose=1, save_best_only=True, mode='max')\n",
    "\n",
    "# set early stopping based on accuracy improving or not. It stops after 5 epochs of no accuracy improvement\n",
    "early = EarlyStopping(monitor=\"val_acc\", mode=\"max\", patience=5, verbose=1)\n",
    "\n",
    "# reduces learning rate when a metric has stopped improving\n",
    "redonplat = ReduceLROnPlateau(monitor=\"val_acc\", mode=\"max\", patience=3, verbose=2)\n",
    "\n",
    "# defining the callbacks list to include the above parameters\n",
    "callbacks_list = [checkpoint, early, redonplat]\n",
    "\n",
    "# train the model\n",
    "model.fit(x_cnn, y_cnn, epochs=1000, verbose=2, callbacks=callbacks_list, validation_split=0.1)\n",
    "model.load_weights(file_path)\n"
   ]
  },
  {
   "cell_type": "code",
   "execution_count": 88,
   "metadata": {},
   "outputs": [
    {
     "name": "stdout",
     "output_type": "stream",
     "text": [
      "Test f1 score : 0.8072497688041211 \n",
      "Test ROC AUC Score : 0.806057114724021 \n",
      "Test accuracy score : 0.8290865384615385 \n"
     ]
    }
   ],
   "source": [
    "# test the model\n",
    "pred_test = model.predict(x_cnn_test)\n",
    "pred_test = np.argmax(pred_test, axis=-1)\n",
    "\n",
    "# get f1 score of the model & print it. The f1 score considers the precision & recall.\n",
    "f1 = f1_score(y_cnn_test, pred_test, average=\"macro\")\n",
    "print(\"Test f1 score : %s \"% f1)\n",
    "\n",
    "# get ROC AUC score of the model & print it\n",
    "roc = roc_auc_score(y_cnn_test, pred_test)\n",
    "print(\"Test ROC AUC Score : %s \"% roc)\n",
    "\n",
    "# get the accuracy and print it\n",
    "acc = accuracy_score(y_cnn_test, pred_test)\n",
    "print(\"Test accuracy score : %s \"% acc)"
   ]
  },
  {
   "cell_type": "code",
   "execution_count": null,
   "metadata": {},
   "outputs": [],
   "source": []
  }
 ],
 "metadata": {
  "kernelspec": {
   "display_name": "Python 3",
   "language": "python",
   "name": "python3"
  },
  "language_info": {
   "codemirror_mode": {
    "name": "ipython",
    "version": 3
   },
   "file_extension": ".py",
   "mimetype": "text/x-python",
   "name": "python",
   "nbconvert_exporter": "python",
   "pygments_lexer": "ipython3",
   "version": "3.7.1"
  }
 },
 "nbformat": 4,
 "nbformat_minor": 2
}
